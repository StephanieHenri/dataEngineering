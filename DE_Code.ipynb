{
 "cells": [
  {
   "cell_type": "markdown",
   "id": "1e1e679d",
   "metadata": {},
   "source": [
    "Installing Kaggle package"
   ]
  },
  {
   "cell_type": "code",
   "execution_count": 1,
   "id": "68bf250c",
   "metadata": {},
   "outputs": [
    {
     "name": "stdout",
     "output_type": "stream",
     "text": [
      "mkdir: /Users/stephieeh/.kaggle: File exists\r\n"
     ]
    }
   ],
   "source": [
    "!mkdir ~/.kaggle"
   ]
  },
  {
   "cell_type": "code",
   "execution_count": 2,
   "id": "0c7fbf6f",
   "metadata": {},
   "outputs": [
    {
     "name": "stdout",
     "output_type": "stream",
     "text": [
      "cp: /Users/stephieeh/Downloads/kaggle.json: No such file or directory\r\n"
     ]
    }
   ],
   "source": [
    "!cp /Users/stephieeh/Downloads/kaggle.json /Users/stephieeh/.kaggle/kaggle.json"
   ]
  },
  {
   "cell_type": "code",
   "execution_count": 3,
   "id": "cd5a4f2a",
   "metadata": {},
   "outputs": [
    {
     "name": "stdout",
     "output_type": "stream",
     "text": [
      "kaggle.json\r\n"
     ]
    }
   ],
   "source": [
    "!cd /Users/stephieeh/.kaggle/ && ls"
   ]
  },
  {
   "cell_type": "code",
   "execution_count": 4,
   "id": "25f6bd04",
   "metadata": {},
   "outputs": [
    {
     "name": "stdout",
     "output_type": "stream",
     "text": [
      "ref                                                      title                                            size  lastUpdated          downloadCount  voteCount  usabilityRating  \r\n",
      "-------------------------------------------------------  ----------------------------------------------  -----  -------------------  -------------  ---------  ---------------  \r\n",
      "carrie1/ecommerce-data                                   E-Commerce Data                                   7MB  2017-08-17 02:44:30         145135       1560  0.7058824        \r\n",
      "thedevastator/unlock-profits-with-e-commerce-sales-data  E-Commerce Sales Dataset                          6MB  2022-12-03 09:27:17          36416        346  1.0              \r\n",
      "benroshan/ecommerce-data                                 E-Commerce Data                                  18KB  2020-04-22 11:47:38          17246        122  1.0              \r\n",
      "prachi13/customer-analytics                               E-Commerce Shipping Data                       121KB  2021-02-23 12:01:47          30504        331  0.9411765        \r\n",
      "nicapotato/womens-ecommerce-clothing-reviews             Women's E-Commerce Clothing Reviews               3MB  2018-02-03 19:59:19          65703       1024  0.88235295       \r\n",
      "olistbr/brazilian-ecommerce                              Brazilian E-Commerce Public Dataset by Olist     43MB  2021-10-01 19:08:27         220874       2973  1.0              \r\n",
      "zusmani/pakistans-largest-ecommerce-dataset              Pakistan's Largest E-Commerce Dataset            14MB  2021-01-19 11:42:57           8457        293  0.9705882        \r\n",
      "gabrielramos87/an-online-shop-business                   E-commerce Business Transaction                   7MB  2022-05-14 20:11:48           9276        107  1.0              \r\n",
      "jmmvutu/summer-products-and-sales-in-ecommerce-wish      Sales of summer clothes in E-commerce Wish      406KB  2023-12-17 09:48:55          26158        467  1.0              \r\n",
      "ulrikthygepedersen/shipping-ecommerce                    Shipping E-Commerce                              82KB  2023-02-02 09:17:46           2209         37  1.0              \r\n",
      "atharvaarya25/e-commerce-analysis-uk                     E-Commerce Analysis - UK                          7MB  2023-07-26 05:25:41           1587         36  1.0              \r\n",
      "mukuldeshantri/ecommerce-fashion-dataset                 E-commerce Dataset with 30K Products            546KB  2022-07-08 12:28:18           6554        100  1.0              \r\n",
      "vikashrajluhaniwal/fashion-images                        E-commerce Product Images                       335MB  2021-03-27 10:16:46           3203         46  0.9411765        \r\n",
      "uom190346a/e-commerce-customer-behavior-dataset          E-commerce Customer Behavior Dataset              3KB  2023-11-10 03:01:13           2395         49  1.0              \r\n",
      "berkayalan/ecommerce-sales-dataset                       E-Commerce Sales Dataset 🛒                      271KB  2022-01-16 09:15:59           3905         58  1.0              \r\n",
      "ammaraahmad/us-ecommerce-record-2020                     United States E-Commerce records 2020           160KB  2021-09-02 10:07:45           4161         55  1.0              \r\n",
      "kolawale/focusing-on-mobile-app-or-website               Linear Regression  E-commerce Dataset            43KB  2019-09-16 19:04:27           9631         67  0.625            \r\n",
      "aliessamali/ecommerce                                    E-commerce Dataset                                7MB  2023-08-13 18:57:42           2394         44  1.0              \r\n",
      "zeesolver/consumer-behavior-and-shopping-habits-dataset  Consumer Behavior and Shopping Habits Dataset:  146KB  2023-10-19 13:36:26          10167        130  1.0              \r\n",
      "kzmontage/e-commerce-website-logs                        E-Commerce Website Logs                           3MB  2023-12-15 18:17:24            642         25  1.0              \r\n"
     ]
    }
   ],
   "source": [
    "!kaggle datasets list -s 'e-commerce'"
   ]
  },
  {
   "cell_type": "markdown",
   "id": "3d035997",
   "metadata": {},
   "source": [
    "Data Load"
   ]
  },
  {
   "cell_type": "code",
   "execution_count": 5,
   "id": "a19ef6cb",
   "metadata": {},
   "outputs": [
    {
     "name": "stdout",
     "output_type": "stream",
     "text": [
      "Downloading an-online-shop-business.zip to /Users/stephieeh/Documents/Portfolio/API/Python_Prescriptive_Analysis\n",
      "100%|██████████████████████████████████████| 6.66M/6.66M [00:04<00:00, 1.56MB/s]\n",
      "100%|██████████████████████████████████████| 6.66M/6.66M [00:04<00:00, 1.72MB/s]\n"
     ]
    }
   ],
   "source": [
    "!kaggle datasets download -d 'gabrielramos87/an-online-shop-business' --force"
   ]
  },
  {
   "cell_type": "code",
   "execution_count": 6,
   "id": "c233c194",
   "metadata": {},
   "outputs": [],
   "source": [
    "!chmod 600 /Users/stephieeh/.kaggle/kaggle.json"
   ]
  },
  {
   "cell_type": "code",
   "execution_count": 7,
   "id": "d767be9a",
   "metadata": {},
   "outputs": [],
   "source": [
    "# !sudo apt-get install unzip"
   ]
  },
  {
   "cell_type": "code",
   "execution_count": 8,
   "id": "883f359c",
   "metadata": {},
   "outputs": [
    {
     "name": "stdout",
     "output_type": "stream",
     "text": [
      "Archive:  an-online-shop-business.zip\n",
      "  inflating: data/Sales Transaction v.4a.csv  \n"
     ]
    }
   ],
   "source": [
    "!unzip an-online-shop-business.zip -d data/"
   ]
  },
  {
   "cell_type": "code",
   "execution_count": 9,
   "id": "77069b38",
   "metadata": {},
   "outputs": [
    {
     "name": "stdout",
     "output_type": "stream",
     "text": [
      "mv: rename data/sales_transaction.csv to data/sales.csv: No such file or directory\r\n"
     ]
    }
   ],
   "source": [
    "!mv data/sales_transaction.csv data/sales.csv"
   ]
  },
  {
   "cell_type": "code",
   "execution_count": 10,
   "id": "2dcf0780",
   "metadata": {},
   "outputs": [
    {
     "name": "stdout",
     "output_type": "stream",
     "text": [
      "Sales Transaction v.4a.csv\r\n"
     ]
    }
   ],
   "source": [
    "!ls data"
   ]
  },
  {
   "cell_type": "markdown",
   "id": "f80a604d",
   "metadata": {},
   "source": [
    "Adding libraries "
   ]
  },
  {
   "cell_type": "code",
   "execution_count": 11,
   "id": "e871ebb6",
   "metadata": {},
   "outputs": [],
   "source": [
    "import pandas as pd\n",
    "import matplotlib.pyplot as plt\n",
    "from matplotlib.ticker import FuncFormatter, StrMethodFormatter\n",
    "from matplotlib.ticker import ScalarFormatter, FormatStrFormatter\n",
    "import seaborn as sns\n",
    "import numpy as np\n",
    "import matplotlib.font_manager as font_manager\n",
    "import plotly.graph_objs as go\n",
    "from plotly.offline import iplot\n",
    "sns.set()\n",
    "pd.options.display.max_columns = 999"
   ]
  },
  {
   "cell_type": "code",
   "execution_count": 12,
   "id": "f8f1b9e0",
   "metadata": {},
   "outputs": [],
   "source": [
    "df = pd.read_csv('data/Sales Transaction v.4a.csv')"
   ]
  },
  {
   "cell_type": "code",
   "execution_count": 13,
   "id": "e3b26553",
   "metadata": {},
   "outputs": [
    {
     "data": {
      "text/plain": [
       "Index(['TransactionNo', 'Date', 'ProductNo', 'ProductName', 'Price',\n",
       "       'Quantity', 'CustomerNo', 'Country'],\n",
       "      dtype='object')"
      ]
     },
     "execution_count": 13,
     "metadata": {},
     "output_type": "execute_result"
    }
   ],
   "source": [
    "df.columns"
   ]
  },
  {
   "cell_type": "code",
   "execution_count": 14,
   "id": "afe0dc39",
   "metadata": {},
   "outputs": [
    {
     "data": {
      "text/plain": [
       "TransactionNo     object\n",
       "Date              object\n",
       "ProductNo         object\n",
       "ProductName       object\n",
       "Price            float64\n",
       "Quantity           int64\n",
       "CustomerNo       float64\n",
       "Country           object\n",
       "dtype: object"
      ]
     },
     "execution_count": 14,
     "metadata": {},
     "output_type": "execute_result"
    }
   ],
   "source": [
    "df.dtypes"
   ]
  },
  {
   "cell_type": "code",
   "execution_count": 15,
   "id": "88c40c1e",
   "metadata": {},
   "outputs": [
    {
     "data": {
      "text/html": [
       "<div>\n",
       "<style scoped>\n",
       "    .dataframe tbody tr th:only-of-type {\n",
       "        vertical-align: middle;\n",
       "    }\n",
       "\n",
       "    .dataframe tbody tr th {\n",
       "        vertical-align: top;\n",
       "    }\n",
       "\n",
       "    .dataframe thead th {\n",
       "        text-align: right;\n",
       "    }\n",
       "</style>\n",
       "<table border=\"1\" class=\"dataframe\">\n",
       "  <thead>\n",
       "    <tr style=\"text-align: right;\">\n",
       "      <th></th>\n",
       "      <th>Price</th>\n",
       "      <th>Quantity</th>\n",
       "      <th>CustomerNo</th>\n",
       "    </tr>\n",
       "  </thead>\n",
       "  <tbody>\n",
       "    <tr>\n",
       "      <th>count</th>\n",
       "      <td>536350.000000</td>\n",
       "      <td>536350.000000</td>\n",
       "      <td>536295.000000</td>\n",
       "    </tr>\n",
       "    <tr>\n",
       "      <th>mean</th>\n",
       "      <td>12.662182</td>\n",
       "      <td>9.919347</td>\n",
       "      <td>15227.893178</td>\n",
       "    </tr>\n",
       "    <tr>\n",
       "      <th>std</th>\n",
       "      <td>8.490450</td>\n",
       "      <td>216.662300</td>\n",
       "      <td>1716.582932</td>\n",
       "    </tr>\n",
       "    <tr>\n",
       "      <th>min</th>\n",
       "      <td>5.130000</td>\n",
       "      <td>-80995.000000</td>\n",
       "      <td>12004.000000</td>\n",
       "    </tr>\n",
       "    <tr>\n",
       "      <th>25%</th>\n",
       "      <td>10.990000</td>\n",
       "      <td>1.000000</td>\n",
       "      <td>13807.000000</td>\n",
       "    </tr>\n",
       "    <tr>\n",
       "      <th>50%</th>\n",
       "      <td>11.940000</td>\n",
       "      <td>3.000000</td>\n",
       "      <td>15152.000000</td>\n",
       "    </tr>\n",
       "    <tr>\n",
       "      <th>75%</th>\n",
       "      <td>14.090000</td>\n",
       "      <td>10.000000</td>\n",
       "      <td>16729.000000</td>\n",
       "    </tr>\n",
       "    <tr>\n",
       "      <th>max</th>\n",
       "      <td>660.620000</td>\n",
       "      <td>80995.000000</td>\n",
       "      <td>18287.000000</td>\n",
       "    </tr>\n",
       "  </tbody>\n",
       "</table>\n",
       "</div>"
      ],
      "text/plain": [
       "               Price       Quantity     CustomerNo\n",
       "count  536350.000000  536350.000000  536295.000000\n",
       "mean       12.662182       9.919347   15227.893178\n",
       "std         8.490450     216.662300    1716.582932\n",
       "min         5.130000  -80995.000000   12004.000000\n",
       "25%        10.990000       1.000000   13807.000000\n",
       "50%        11.940000       3.000000   15152.000000\n",
       "75%        14.090000      10.000000   16729.000000\n",
       "max       660.620000   80995.000000   18287.000000"
      ]
     },
     "execution_count": 15,
     "metadata": {},
     "output_type": "execute_result"
    }
   ],
   "source": [
    "df.describe()"
   ]
  },
  {
   "cell_type": "markdown",
   "id": "3e2d96ce",
   "metadata": {},
   "source": [
    "Data cleaning"
   ]
  },
  {
   "cell_type": "code",
   "execution_count": 16,
   "id": "6d7b22b3",
   "metadata": {},
   "outputs": [
    {
     "name": "stdout",
     "output_type": "stream",
     "text": [
      "<class 'pandas.core.frame.DataFrame'>\n",
      "RangeIndex: 536350 entries, 0 to 536349\n",
      "Data columns (total 8 columns):\n",
      " #   Column         Non-Null Count   Dtype  \n",
      "---  ------         --------------   -----  \n",
      " 0   TransactionNo  536350 non-null  object \n",
      " 1   Date           536350 non-null  object \n",
      " 2   ProductNo      536350 non-null  object \n",
      " 3   ProductName    536350 non-null  object \n",
      " 4   Price          536350 non-null  float64\n",
      " 5   Quantity       536350 non-null  int64  \n",
      " 6   CustomerNo     536295 non-null  float64\n",
      " 7   Country        536350 non-null  object \n",
      "dtypes: float64(2), int64(1), object(5)\n",
      "memory usage: 32.7+ MB\n"
     ]
    }
   ],
   "source": [
    "df.info()"
   ]
  },
  {
   "cell_type": "code",
   "execution_count": 17,
   "id": "9a2fd81c",
   "metadata": {},
   "outputs": [
    {
     "data": {
      "text/plain": [
       "(536350, 8)"
      ]
     },
     "execution_count": 17,
     "metadata": {},
     "output_type": "execute_result"
    }
   ],
   "source": [
    "df.shape"
   ]
  },
  {
   "cell_type": "code",
   "execution_count": 18,
   "id": "eafa6ac8",
   "metadata": {},
   "outputs": [
    {
     "data": {
      "text/plain": [
       "TransactionNo    23204\n",
       "Date               305\n",
       "ProductNo         3768\n",
       "ProductName       3768\n",
       "Price              530\n",
       "Quantity           510\n",
       "CustomerNo        4738\n",
       "Country             38\n",
       "dtype: int64"
      ]
     },
     "execution_count": 18,
     "metadata": {},
     "output_type": "execute_result"
    }
   ],
   "source": [
    "df.nunique()"
   ]
  },
  {
   "cell_type": "code",
   "execution_count": 19,
   "id": "4ba6ffc6",
   "metadata": {},
   "outputs": [
    {
     "data": {
      "text/plain": [
       "0         False\n",
       "1         False\n",
       "2         False\n",
       "3         False\n",
       "4         False\n",
       "          ...  \n",
       "536345    False\n",
       "536346    False\n",
       "536347    False\n",
       "536348    False\n",
       "536349    False\n",
       "Length: 536350, dtype: bool"
      ]
     },
     "execution_count": 19,
     "metadata": {},
     "output_type": "execute_result"
    }
   ],
   "source": [
    "df.duplicated()"
   ]
  },
  {
   "cell_type": "code",
   "execution_count": 20,
   "id": "1e086eae",
   "metadata": {},
   "outputs": [
    {
     "data": {
      "text/plain": [
       "5200"
      ]
     },
     "execution_count": 20,
     "metadata": {},
     "output_type": "execute_result"
    }
   ],
   "source": [
    "df.duplicated().sum()"
   ]
  },
  {
   "cell_type": "code",
   "execution_count": 21,
   "id": "09bc0855",
   "metadata": {},
   "outputs": [
    {
     "data": {
      "text/html": [
       "<div>\n",
       "<style scoped>\n",
       "    .dataframe tbody tr th:only-of-type {\n",
       "        vertical-align: middle;\n",
       "    }\n",
       "\n",
       "    .dataframe tbody tr th {\n",
       "        vertical-align: top;\n",
       "    }\n",
       "\n",
       "    .dataframe thead th {\n",
       "        text-align: right;\n",
       "    }\n",
       "</style>\n",
       "<table border=\"1\" class=\"dataframe\">\n",
       "  <thead>\n",
       "    <tr style=\"text-align: right;\">\n",
       "      <th></th>\n",
       "      <th>TransactionNo</th>\n",
       "      <th>Date</th>\n",
       "      <th>ProductNo</th>\n",
       "      <th>ProductName</th>\n",
       "      <th>Price</th>\n",
       "      <th>Quantity</th>\n",
       "      <th>CustomerNo</th>\n",
       "      <th>Country</th>\n",
       "    </tr>\n",
       "  </thead>\n",
       "  <tbody>\n",
       "    <tr>\n",
       "      <th>2</th>\n",
       "      <td>581475</td>\n",
       "      <td>12/9/2019</td>\n",
       "      <td>23235</td>\n",
       "      <td>Storage Tin Vintage Leaf</td>\n",
       "      <td>11.53</td>\n",
       "      <td>12</td>\n",
       "      <td>13069.0</td>\n",
       "      <td>United Kingdom</td>\n",
       "    </tr>\n",
       "    <tr>\n",
       "      <th>3</th>\n",
       "      <td>581475</td>\n",
       "      <td>12/9/2019</td>\n",
       "      <td>23272</td>\n",
       "      <td>Tree T-Light Holder Willie Winkie</td>\n",
       "      <td>10.65</td>\n",
       "      <td>12</td>\n",
       "      <td>13069.0</td>\n",
       "      <td>United Kingdom</td>\n",
       "    </tr>\n",
       "    <tr>\n",
       "      <th>4</th>\n",
       "      <td>581475</td>\n",
       "      <td>12/9/2019</td>\n",
       "      <td>23239</td>\n",
       "      <td>Set Of 4 Knick Knack Tins Poppies</td>\n",
       "      <td>11.94</td>\n",
       "      <td>6</td>\n",
       "      <td>13069.0</td>\n",
       "      <td>United Kingdom</td>\n",
       "    </tr>\n",
       "    <tr>\n",
       "      <th>5</th>\n",
       "      <td>581475</td>\n",
       "      <td>12/9/2019</td>\n",
       "      <td>21705</td>\n",
       "      <td>Bag 500g Swirly Marbles</td>\n",
       "      <td>10.65</td>\n",
       "      <td>24</td>\n",
       "      <td>13069.0</td>\n",
       "      <td>United Kingdom</td>\n",
       "    </tr>\n",
       "    <tr>\n",
       "      <th>6</th>\n",
       "      <td>581475</td>\n",
       "      <td>12/9/2019</td>\n",
       "      <td>22118</td>\n",
       "      <td>Joy Wooden Block Letters</td>\n",
       "      <td>11.53</td>\n",
       "      <td>18</td>\n",
       "      <td>13069.0</td>\n",
       "      <td>United Kingdom</td>\n",
       "    </tr>\n",
       "    <tr>\n",
       "      <th>...</th>\n",
       "      <td>...</td>\n",
       "      <td>...</td>\n",
       "      <td>...</td>\n",
       "      <td>...</td>\n",
       "      <td>...</td>\n",
       "      <td>...</td>\n",
       "      <td>...</td>\n",
       "      <td>...</td>\n",
       "    </tr>\n",
       "    <tr>\n",
       "      <th>536345</th>\n",
       "      <td>C536548</td>\n",
       "      <td>12/1/2018</td>\n",
       "      <td>22168</td>\n",
       "      <td>Organiser Wood Antique White</td>\n",
       "      <td>18.96</td>\n",
       "      <td>-2</td>\n",
       "      <td>12472.0</td>\n",
       "      <td>Germany</td>\n",
       "    </tr>\n",
       "    <tr>\n",
       "      <th>536346</th>\n",
       "      <td>C536548</td>\n",
       "      <td>12/1/2018</td>\n",
       "      <td>21218</td>\n",
       "      <td>Red Spotty Biscuit Tin</td>\n",
       "      <td>14.09</td>\n",
       "      <td>-3</td>\n",
       "      <td>12472.0</td>\n",
       "      <td>Germany</td>\n",
       "    </tr>\n",
       "    <tr>\n",
       "      <th>536347</th>\n",
       "      <td>C536548</td>\n",
       "      <td>12/1/2018</td>\n",
       "      <td>20957</td>\n",
       "      <td>Porcelain Hanging Bell Small</td>\n",
       "      <td>11.74</td>\n",
       "      <td>-1</td>\n",
       "      <td>12472.0</td>\n",
       "      <td>Germany</td>\n",
       "    </tr>\n",
       "    <tr>\n",
       "      <th>536348</th>\n",
       "      <td>C536548</td>\n",
       "      <td>12/1/2018</td>\n",
       "      <td>22580</td>\n",
       "      <td>Advent Calendar Gingham Sack</td>\n",
       "      <td>16.35</td>\n",
       "      <td>-4</td>\n",
       "      <td>12472.0</td>\n",
       "      <td>Germany</td>\n",
       "    </tr>\n",
       "    <tr>\n",
       "      <th>536349</th>\n",
       "      <td>C536548</td>\n",
       "      <td>12/1/2018</td>\n",
       "      <td>22767</td>\n",
       "      <td>Triple Photo Frame Cornice</td>\n",
       "      <td>20.45</td>\n",
       "      <td>-2</td>\n",
       "      <td>12472.0</td>\n",
       "      <td>Germany</td>\n",
       "    </tr>\n",
       "  </tbody>\n",
       "</table>\n",
       "<p>513146 rows × 8 columns</p>\n",
       "</div>"
      ],
      "text/plain": [
       "       TransactionNo       Date ProductNo                        ProductName  \\\n",
       "2             581475  12/9/2019     23235           Storage Tin Vintage Leaf   \n",
       "3             581475  12/9/2019     23272  Tree T-Light Holder Willie Winkie   \n",
       "4             581475  12/9/2019     23239  Set Of 4 Knick Knack Tins Poppies   \n",
       "5             581475  12/9/2019     21705            Bag 500g Swirly Marbles   \n",
       "6             581475  12/9/2019     22118           Joy Wooden Block Letters   \n",
       "...              ...        ...       ...                                ...   \n",
       "536345       C536548  12/1/2018     22168       Organiser Wood Antique White   \n",
       "536346       C536548  12/1/2018     21218             Red Spotty Biscuit Tin   \n",
       "536347       C536548  12/1/2018     20957       Porcelain Hanging Bell Small   \n",
       "536348       C536548  12/1/2018     22580       Advent Calendar Gingham Sack   \n",
       "536349       C536548  12/1/2018     22767         Triple Photo Frame Cornice   \n",
       "\n",
       "        Price  Quantity  CustomerNo         Country  \n",
       "2       11.53        12     13069.0  United Kingdom  \n",
       "3       10.65        12     13069.0  United Kingdom  \n",
       "4       11.94         6     13069.0  United Kingdom  \n",
       "5       10.65        24     13069.0  United Kingdom  \n",
       "6       11.53        18     13069.0  United Kingdom  \n",
       "...       ...       ...         ...             ...  \n",
       "536345  18.96        -2     12472.0         Germany  \n",
       "536346  14.09        -3     12472.0         Germany  \n",
       "536347  11.74        -1     12472.0         Germany  \n",
       "536348  16.35        -4     12472.0         Germany  \n",
       "536349  20.45        -2     12472.0         Germany  \n",
       "\n",
       "[513146 rows x 8 columns]"
      ]
     },
     "execution_count": 21,
     "metadata": {},
     "output_type": "execute_result"
    }
   ],
   "source": [
    "# Understand why there are duplicates\n",
    "# Starting with TransactionNo\n",
    "df.loc[df.duplicated(subset=['TransactionNo'])]"
   ]
  },
  {
   "cell_type": "code",
   "execution_count": 22,
   "id": "3bf45bb6",
   "metadata": {},
   "outputs": [
    {
     "data": {
      "text/html": [
       "<div>\n",
       "<style scoped>\n",
       "    .dataframe tbody tr th:only-of-type {\n",
       "        vertical-align: middle;\n",
       "    }\n",
       "\n",
       "    .dataframe tbody tr th {\n",
       "        vertical-align: top;\n",
       "    }\n",
       "\n",
       "    .dataframe thead th {\n",
       "        text-align: right;\n",
       "    }\n",
       "</style>\n",
       "<table border=\"1\" class=\"dataframe\">\n",
       "  <thead>\n",
       "    <tr style=\"text-align: right;\">\n",
       "      <th></th>\n",
       "      <th>TransactionNo</th>\n",
       "      <th>Date</th>\n",
       "      <th>ProductNo</th>\n",
       "      <th>ProductName</th>\n",
       "      <th>Price</th>\n",
       "      <th>Quantity</th>\n",
       "      <th>CustomerNo</th>\n",
       "      <th>Country</th>\n",
       "    </tr>\n",
       "  </thead>\n",
       "  <tbody>\n",
       "    <tr>\n",
       "      <th>1</th>\n",
       "      <td>581475</td>\n",
       "      <td>12/9/2019</td>\n",
       "      <td>22596</td>\n",
       "      <td>Christmas Star Wish List Chalkboard</td>\n",
       "      <td>10.65</td>\n",
       "      <td>36</td>\n",
       "      <td>13069.0</td>\n",
       "      <td>United Kingdom</td>\n",
       "    </tr>\n",
       "    <tr>\n",
       "      <th>2</th>\n",
       "      <td>581475</td>\n",
       "      <td>12/9/2019</td>\n",
       "      <td>23235</td>\n",
       "      <td>Storage Tin Vintage Leaf</td>\n",
       "      <td>11.53</td>\n",
       "      <td>12</td>\n",
       "      <td>13069.0</td>\n",
       "      <td>United Kingdom</td>\n",
       "    </tr>\n",
       "    <tr>\n",
       "      <th>3</th>\n",
       "      <td>581475</td>\n",
       "      <td>12/9/2019</td>\n",
       "      <td>23272</td>\n",
       "      <td>Tree T-Light Holder Willie Winkie</td>\n",
       "      <td>10.65</td>\n",
       "      <td>12</td>\n",
       "      <td>13069.0</td>\n",
       "      <td>United Kingdom</td>\n",
       "    </tr>\n",
       "    <tr>\n",
       "      <th>4</th>\n",
       "      <td>581475</td>\n",
       "      <td>12/9/2019</td>\n",
       "      <td>23239</td>\n",
       "      <td>Set Of 4 Knick Knack Tins Poppies</td>\n",
       "      <td>11.94</td>\n",
       "      <td>6</td>\n",
       "      <td>13069.0</td>\n",
       "      <td>United Kingdom</td>\n",
       "    </tr>\n",
       "    <tr>\n",
       "      <th>5</th>\n",
       "      <td>581475</td>\n",
       "      <td>12/9/2019</td>\n",
       "      <td>21705</td>\n",
       "      <td>Bag 500g Swirly Marbles</td>\n",
       "      <td>10.65</td>\n",
       "      <td>24</td>\n",
       "      <td>13069.0</td>\n",
       "      <td>United Kingdom</td>\n",
       "    </tr>\n",
       "    <tr>\n",
       "      <th>6</th>\n",
       "      <td>581475</td>\n",
       "      <td>12/9/2019</td>\n",
       "      <td>22118</td>\n",
       "      <td>Joy Wooden Block Letters</td>\n",
       "      <td>11.53</td>\n",
       "      <td>18</td>\n",
       "      <td>13069.0</td>\n",
       "      <td>United Kingdom</td>\n",
       "    </tr>\n",
       "    <tr>\n",
       "      <th>7</th>\n",
       "      <td>581475</td>\n",
       "      <td>12/9/2019</td>\n",
       "      <td>22119</td>\n",
       "      <td>Peace Wooden Block Letters</td>\n",
       "      <td>12.25</td>\n",
       "      <td>12</td>\n",
       "      <td>13069.0</td>\n",
       "      <td>United Kingdom</td>\n",
       "    </tr>\n",
       "    <tr>\n",
       "      <th>8</th>\n",
       "      <td>581475</td>\n",
       "      <td>12/9/2019</td>\n",
       "      <td>22217</td>\n",
       "      <td>T-Light Holder Hanging Lace</td>\n",
       "      <td>10.65</td>\n",
       "      <td>12</td>\n",
       "      <td>13069.0</td>\n",
       "      <td>United Kingdom</td>\n",
       "    </tr>\n",
       "    <tr>\n",
       "      <th>9</th>\n",
       "      <td>581475</td>\n",
       "      <td>12/9/2019</td>\n",
       "      <td>22216</td>\n",
       "      <td>T-Light Holder White Lace</td>\n",
       "      <td>10.55</td>\n",
       "      <td>24</td>\n",
       "      <td>13069.0</td>\n",
       "      <td>United Kingdom</td>\n",
       "    </tr>\n",
       "    <tr>\n",
       "      <th>10</th>\n",
       "      <td>581475</td>\n",
       "      <td>12/9/2019</td>\n",
       "      <td>22380</td>\n",
       "      <td>Toy Tidy Spaceboy</td>\n",
       "      <td>11.06</td>\n",
       "      <td>20</td>\n",
       "      <td>13069.0</td>\n",
       "      <td>United Kingdom</td>\n",
       "    </tr>\n",
       "  </tbody>\n",
       "</table>\n",
       "</div>"
      ],
      "text/plain": [
       "   TransactionNo       Date ProductNo                          ProductName  \\\n",
       "1         581475  12/9/2019     22596  Christmas Star Wish List Chalkboard   \n",
       "2         581475  12/9/2019     23235             Storage Tin Vintage Leaf   \n",
       "3         581475  12/9/2019     23272    Tree T-Light Holder Willie Winkie   \n",
       "4         581475  12/9/2019     23239    Set Of 4 Knick Knack Tins Poppies   \n",
       "5         581475  12/9/2019     21705              Bag 500g Swirly Marbles   \n",
       "6         581475  12/9/2019     22118             Joy Wooden Block Letters   \n",
       "7         581475  12/9/2019     22119           Peace Wooden Block Letters   \n",
       "8         581475  12/9/2019     22217          T-Light Holder Hanging Lace   \n",
       "9         581475  12/9/2019     22216            T-Light Holder White Lace   \n",
       "10        581475  12/9/2019     22380                    Toy Tidy Spaceboy   \n",
       "\n",
       "    Price  Quantity  CustomerNo         Country  \n",
       "1   10.65        36     13069.0  United Kingdom  \n",
       "2   11.53        12     13069.0  United Kingdom  \n",
       "3   10.65        12     13069.0  United Kingdom  \n",
       "4   11.94         6     13069.0  United Kingdom  \n",
       "5   10.65        24     13069.0  United Kingdom  \n",
       "6   11.53        18     13069.0  United Kingdom  \n",
       "7   12.25        12     13069.0  United Kingdom  \n",
       "8   10.65        12     13069.0  United Kingdom  \n",
       "9   10.55        24     13069.0  United Kingdom  \n",
       "10  11.06        20     13069.0  United Kingdom  "
      ]
     },
     "execution_count": 22,
     "metadata": {},
     "output_type": "execute_result"
    }
   ],
   "source": [
    "# Analysing one transaction number closely to understand behaviour\n",
    "df.query('TransactionNo == \"581475\"').head(10)"
   ]
  },
  {
   "cell_type": "code",
   "execution_count": 23,
   "id": "5e36fb85",
   "metadata": {},
   "outputs": [
    {
     "data": {
      "text/html": [
       "<div>\n",
       "<style scoped>\n",
       "    .dataframe tbody tr th:only-of-type {\n",
       "        vertical-align: middle;\n",
       "    }\n",
       "\n",
       "    .dataframe tbody tr th {\n",
       "        vertical-align: top;\n",
       "    }\n",
       "\n",
       "    .dataframe thead th {\n",
       "        text-align: right;\n",
       "    }\n",
       "</style>\n",
       "<table border=\"1\" class=\"dataframe\">\n",
       "  <thead>\n",
       "    <tr style=\"text-align: right;\">\n",
       "      <th></th>\n",
       "      <th>TransactionNo</th>\n",
       "      <th>Date</th>\n",
       "      <th>ProductNo</th>\n",
       "      <th>ProductName</th>\n",
       "      <th>Price</th>\n",
       "      <th>Quantity</th>\n",
       "      <th>CustomerNo</th>\n",
       "      <th>Country</th>\n",
       "    </tr>\n",
       "  </thead>\n",
       "  <tbody>\n",
       "    <tr>\n",
       "      <th>536336</th>\n",
       "      <td>C536548</td>\n",
       "      <td>12/1/2018</td>\n",
       "      <td>22244</td>\n",
       "      <td>3 Hook Hanger Magic Garden</td>\n",
       "      <td>12.25</td>\n",
       "      <td>-4</td>\n",
       "      <td>12472.0</td>\n",
       "      <td>Germany</td>\n",
       "    </tr>\n",
       "    <tr>\n",
       "      <th>536337</th>\n",
       "      <td>C536548</td>\n",
       "      <td>12/1/2018</td>\n",
       "      <td>22242</td>\n",
       "      <td>5 Hook Hanger Magic Toadstool</td>\n",
       "      <td>11.94</td>\n",
       "      <td>-5</td>\n",
       "      <td>12472.0</td>\n",
       "      <td>Germany</td>\n",
       "    </tr>\n",
       "    <tr>\n",
       "      <th>536338</th>\n",
       "      <td>C536548</td>\n",
       "      <td>12/1/2018</td>\n",
       "      <td>20914</td>\n",
       "      <td>Set/5 Red Retrospot Lid Glass Bowls</td>\n",
       "      <td>13.27</td>\n",
       "      <td>-1</td>\n",
       "      <td>12472.0</td>\n",
       "      <td>Germany</td>\n",
       "    </tr>\n",
       "    <tr>\n",
       "      <th>536339</th>\n",
       "      <td>C536548</td>\n",
       "      <td>12/1/2018</td>\n",
       "      <td>22892</td>\n",
       "      <td>Set Of Salt And Pepper Toadstools</td>\n",
       "      <td>11.53</td>\n",
       "      <td>-7</td>\n",
       "      <td>12472.0</td>\n",
       "      <td>Germany</td>\n",
       "    </tr>\n",
       "    <tr>\n",
       "      <th>536340</th>\n",
       "      <td>C536548</td>\n",
       "      <td>12/1/2018</td>\n",
       "      <td>22654</td>\n",
       "      <td>Deluxe Sewing Kit</td>\n",
       "      <td>16.35</td>\n",
       "      <td>-1</td>\n",
       "      <td>12472.0</td>\n",
       "      <td>Germany</td>\n",
       "    </tr>\n",
       "    <tr>\n",
       "      <th>536341</th>\n",
       "      <td>C536548</td>\n",
       "      <td>12/1/2018</td>\n",
       "      <td>22333</td>\n",
       "      <td>Retrospot Party Bag + Sticker Set</td>\n",
       "      <td>11.94</td>\n",
       "      <td>-1</td>\n",
       "      <td>12472.0</td>\n",
       "      <td>Germany</td>\n",
       "    </tr>\n",
       "    <tr>\n",
       "      <th>536342</th>\n",
       "      <td>C536548</td>\n",
       "      <td>12/1/2018</td>\n",
       "      <td>22245</td>\n",
       "      <td>Hook 1 Hanger Magic Garden</td>\n",
       "      <td>11.12</td>\n",
       "      <td>-2</td>\n",
       "      <td>12472.0</td>\n",
       "      <td>Germany</td>\n",
       "    </tr>\n",
       "    <tr>\n",
       "      <th>536343</th>\n",
       "      <td>C536548</td>\n",
       "      <td>12/1/2018</td>\n",
       "      <td>22077</td>\n",
       "      <td>6 Ribbons Rustic Charm</td>\n",
       "      <td>11.94</td>\n",
       "      <td>-6</td>\n",
       "      <td>12472.0</td>\n",
       "      <td>Germany</td>\n",
       "    </tr>\n",
       "    <tr>\n",
       "      <th>536344</th>\n",
       "      <td>C536548</td>\n",
       "      <td>12/1/2018</td>\n",
       "      <td>22631</td>\n",
       "      <td>Circus Parade Lunch Box</td>\n",
       "      <td>12.25</td>\n",
       "      <td>-1</td>\n",
       "      <td>12472.0</td>\n",
       "      <td>Germany</td>\n",
       "    </tr>\n",
       "    <tr>\n",
       "      <th>536345</th>\n",
       "      <td>C536548</td>\n",
       "      <td>12/1/2018</td>\n",
       "      <td>22168</td>\n",
       "      <td>Organiser Wood Antique White</td>\n",
       "      <td>18.96</td>\n",
       "      <td>-2</td>\n",
       "      <td>12472.0</td>\n",
       "      <td>Germany</td>\n",
       "    </tr>\n",
       "  </tbody>\n",
       "</table>\n",
       "</div>"
      ],
      "text/plain": [
       "       TransactionNo       Date ProductNo  \\\n",
       "536336       C536548  12/1/2018     22244   \n",
       "536337       C536548  12/1/2018     22242   \n",
       "536338       C536548  12/1/2018     20914   \n",
       "536339       C536548  12/1/2018     22892   \n",
       "536340       C536548  12/1/2018     22654   \n",
       "536341       C536548  12/1/2018     22333   \n",
       "536342       C536548  12/1/2018     22245   \n",
       "536343       C536548  12/1/2018     22077   \n",
       "536344       C536548  12/1/2018     22631   \n",
       "536345       C536548  12/1/2018     22168   \n",
       "\n",
       "                                ProductName  Price  Quantity  CustomerNo  \\\n",
       "536336           3 Hook Hanger Magic Garden  12.25        -4     12472.0   \n",
       "536337        5 Hook Hanger Magic Toadstool  11.94        -5     12472.0   \n",
       "536338  Set/5 Red Retrospot Lid Glass Bowls  13.27        -1     12472.0   \n",
       "536339    Set Of Salt And Pepper Toadstools  11.53        -7     12472.0   \n",
       "536340                    Deluxe Sewing Kit  16.35        -1     12472.0   \n",
       "536341    Retrospot Party Bag + Sticker Set  11.94        -1     12472.0   \n",
       "536342           Hook 1 Hanger Magic Garden  11.12        -2     12472.0   \n",
       "536343               6 Ribbons Rustic Charm  11.94        -6     12472.0   \n",
       "536344              Circus Parade Lunch Box  12.25        -1     12472.0   \n",
       "536345         Organiser Wood Antique White  18.96        -2     12472.0   \n",
       "\n",
       "        Country  \n",
       "536336  Germany  \n",
       "536337  Germany  \n",
       "536338  Germany  \n",
       "536339  Germany  \n",
       "536340  Germany  \n",
       "536341  Germany  \n",
       "536342  Germany  \n",
       "536343  Germany  \n",
       "536344  Germany  \n",
       "536345  Germany  "
      ]
     },
     "execution_count": 23,
     "metadata": {},
     "output_type": "execute_result"
    }
   ],
   "source": [
    "# Adding a different TransactionNo to analyse further\n",
    "df.query('TransactionNo == \"C536548\"').head(10)"
   ]
  },
  {
   "cell_type": "markdown",
   "id": "84c7fc78",
   "metadata": {},
   "source": [
    "Nothing concrete to establish reasons behind duplicates"
   ]
  },
  {
   "cell_type": "code",
   "execution_count": 24,
   "id": "67794f7d",
   "metadata": {},
   "outputs": [
    {
     "data": {
      "text/plain": [
       "Index(['TransactionNo', 'Date', 'ProductNo', 'ProductName', 'Price',\n",
       "       'Quantity', 'CustomerNo', 'Country'],\n",
       "      dtype='object')"
      ]
     },
     "execution_count": 24,
     "metadata": {},
     "output_type": "execute_result"
    }
   ],
   "source": [
    "df.columns"
   ]
  },
  {
   "cell_type": "code",
   "execution_count": 25,
   "id": "9bef8e6a",
   "metadata": {},
   "outputs": [],
   "source": [
    "# df.duplicated(subset=['TransactionNo','Date','ProductNo']).sum()\n",
    "# inverse\n",
    "# ~df.duplicated(subset=['TransactionNo','Date','ProductNo'])\n",
    "# And locate where values are unique or not duplicated in these columns\n",
    "# df.loc[~df.duplicated(subset=['TransactionNo','Date','ProductNo'])]\\\n",
    "# .reset_index(drop=True).copy()"
   ]
  },
  {
   "cell_type": "markdown",
   "id": "6a61e2f4",
   "metadata": {},
   "source": [
    "Drop duplicates"
   ]
  },
  {
   "cell_type": "code",
   "execution_count": 26,
   "id": "a6a0f225",
   "metadata": {},
   "outputs": [
    {
     "data": {
      "text/plain": [
       "5200"
      ]
     },
     "execution_count": 26,
     "metadata": {},
     "output_type": "execute_result"
    }
   ],
   "source": [
    "\n",
    "df.duplicated().sum()\n"
   ]
  },
  {
   "cell_type": "code",
   "execution_count": 27,
   "id": "db5ff97d",
   "metadata": {},
   "outputs": [],
   "source": [
    "df = df.drop_duplicates()"
   ]
  },
  {
   "cell_type": "code",
   "execution_count": 28,
   "id": "7a9e30ea",
   "metadata": {},
   "outputs": [
    {
     "data": {
      "text/plain": [
       "0"
      ]
     },
     "execution_count": 28,
     "metadata": {},
     "output_type": "execute_result"
    }
   ],
   "source": [
    "df.duplicated().sum()"
   ]
  },
  {
   "cell_type": "code",
   "execution_count": 29,
   "id": "82658974",
   "metadata": {
    "scrolled": true
   },
   "outputs": [
    {
     "data": {
      "text/html": [
       "<div>\n",
       "<style scoped>\n",
       "    .dataframe tbody tr th:only-of-type {\n",
       "        vertical-align: middle;\n",
       "    }\n",
       "\n",
       "    .dataframe tbody tr th {\n",
       "        vertical-align: top;\n",
       "    }\n",
       "\n",
       "    .dataframe thead th {\n",
       "        text-align: right;\n",
       "    }\n",
       "</style>\n",
       "<table border=\"1\" class=\"dataframe\">\n",
       "  <thead>\n",
       "    <tr style=\"text-align: right;\">\n",
       "      <th></th>\n",
       "      <th>TransactionNo</th>\n",
       "      <th>Date</th>\n",
       "      <th>ProductNo</th>\n",
       "      <th>ProductName</th>\n",
       "      <th>Price</th>\n",
       "      <th>Quantity</th>\n",
       "      <th>CustomerNo</th>\n",
       "      <th>Country</th>\n",
       "    </tr>\n",
       "  </thead>\n",
       "  <tbody>\n",
       "    <tr>\n",
       "      <th>0</th>\n",
       "      <td>581482</td>\n",
       "      <td>12/9/2019</td>\n",
       "      <td>22485</td>\n",
       "      <td>Set Of 2 Wooden Market Crates</td>\n",
       "      <td>21.47</td>\n",
       "      <td>12</td>\n",
       "      <td>17490.0</td>\n",
       "      <td>United Kingdom</td>\n",
       "    </tr>\n",
       "    <tr>\n",
       "      <th>1</th>\n",
       "      <td>581475</td>\n",
       "      <td>12/9/2019</td>\n",
       "      <td>22596</td>\n",
       "      <td>Christmas Star Wish List Chalkboard</td>\n",
       "      <td>10.65</td>\n",
       "      <td>36</td>\n",
       "      <td>13069.0</td>\n",
       "      <td>United Kingdom</td>\n",
       "    </tr>\n",
       "    <tr>\n",
       "      <th>2</th>\n",
       "      <td>581475</td>\n",
       "      <td>12/9/2019</td>\n",
       "      <td>23235</td>\n",
       "      <td>Storage Tin Vintage Leaf</td>\n",
       "      <td>11.53</td>\n",
       "      <td>12</td>\n",
       "      <td>13069.0</td>\n",
       "      <td>United Kingdom</td>\n",
       "    </tr>\n",
       "    <tr>\n",
       "      <th>3</th>\n",
       "      <td>581475</td>\n",
       "      <td>12/9/2019</td>\n",
       "      <td>23272</td>\n",
       "      <td>Tree T-Light Holder Willie Winkie</td>\n",
       "      <td>10.65</td>\n",
       "      <td>12</td>\n",
       "      <td>13069.0</td>\n",
       "      <td>United Kingdom</td>\n",
       "    </tr>\n",
       "    <tr>\n",
       "      <th>4</th>\n",
       "      <td>581475</td>\n",
       "      <td>12/9/2019</td>\n",
       "      <td>23239</td>\n",
       "      <td>Set Of 4 Knick Knack Tins Poppies</td>\n",
       "      <td>11.94</td>\n",
       "      <td>6</td>\n",
       "      <td>13069.0</td>\n",
       "      <td>United Kingdom</td>\n",
       "    </tr>\n",
       "  </tbody>\n",
       "</table>\n",
       "</div>"
      ],
      "text/plain": [
       "  TransactionNo       Date ProductNo                          ProductName  \\\n",
       "0        581482  12/9/2019     22485        Set Of 2 Wooden Market Crates   \n",
       "1        581475  12/9/2019     22596  Christmas Star Wish List Chalkboard   \n",
       "2        581475  12/9/2019     23235             Storage Tin Vintage Leaf   \n",
       "3        581475  12/9/2019     23272    Tree T-Light Holder Willie Winkie   \n",
       "4        581475  12/9/2019     23239    Set Of 4 Knick Knack Tins Poppies   \n",
       "\n",
       "   Price  Quantity  CustomerNo         Country  \n",
       "0  21.47        12     17490.0  United Kingdom  \n",
       "1  10.65        36     13069.0  United Kingdom  \n",
       "2  11.53        12     13069.0  United Kingdom  \n",
       "3  10.65        12     13069.0  United Kingdom  \n",
       "4  11.94         6     13069.0  United Kingdom  "
      ]
     },
     "execution_count": 29,
     "metadata": {},
     "output_type": "execute_result"
    }
   ],
   "source": [
    "df.head()"
   ]
  },
  {
   "cell_type": "code",
   "execution_count": 30,
   "id": "5d7e8f7a",
   "metadata": {},
   "outputs": [
    {
     "data": {
      "text/plain": [
       "(531150, 8)"
      ]
     },
     "execution_count": 30,
     "metadata": {},
     "output_type": "execute_result"
    }
   ],
   "source": [
    "df.shape"
   ]
  },
  {
   "cell_type": "code",
   "execution_count": 31,
   "id": "d4536ae2",
   "metadata": {},
   "outputs": [
    {
     "data": {
      "text/plain": [
       "TransactionNo     0\n",
       "Date              0\n",
       "ProductNo         0\n",
       "ProductName       0\n",
       "Price             0\n",
       "Quantity          0\n",
       "CustomerNo       55\n",
       "Country           0\n",
       "dtype: int64"
      ]
     },
     "execution_count": 31,
     "metadata": {},
     "output_type": "execute_result"
    }
   ],
   "source": [
    "# identifying our null values\n",
    "df.isna().sum()"
   ]
  },
  {
   "cell_type": "code",
   "execution_count": 32,
   "id": "cadc7c4d",
   "metadata": {},
   "outputs": [],
   "source": [
    "df['CustomerNo'] = df['CustomerNo'].fillna(0)"
   ]
  },
  {
   "cell_type": "code",
   "execution_count": 33,
   "id": "c2a45b60",
   "metadata": {},
   "outputs": [
    {
     "data": {
      "text/plain": [
       "TransactionNo    0\n",
       "Date             0\n",
       "ProductNo        0\n",
       "ProductName      0\n",
       "Price            0\n",
       "Quantity         0\n",
       "CustomerNo       0\n",
       "Country          0\n",
       "dtype: int64"
      ]
     },
     "execution_count": 33,
     "metadata": {},
     "output_type": "execute_result"
    }
   ],
   "source": [
    "df.isna().sum()"
   ]
  },
  {
   "cell_type": "markdown",
   "id": "90c16f1e",
   "metadata": {},
   "source": [
    "Adding an additional column to calculate total cost"
   ]
  },
  {
   "cell_type": "code",
   "execution_count": 34,
   "id": "2637a25e",
   "metadata": {},
   "outputs": [],
   "source": [
    "df['Total_Cost'] = df['Quantity'] * df['Price']"
   ]
  },
  {
   "cell_type": "code",
   "execution_count": 35,
   "id": "cb8aac20",
   "metadata": {},
   "outputs": [
    {
     "data": {
      "text/html": [
       "<div>\n",
       "<style scoped>\n",
       "    .dataframe tbody tr th:only-of-type {\n",
       "        vertical-align: middle;\n",
       "    }\n",
       "\n",
       "    .dataframe tbody tr th {\n",
       "        vertical-align: top;\n",
       "    }\n",
       "\n",
       "    .dataframe thead th {\n",
       "        text-align: right;\n",
       "    }\n",
       "</style>\n",
       "<table border=\"1\" class=\"dataframe\">\n",
       "  <thead>\n",
       "    <tr style=\"text-align: right;\">\n",
       "      <th></th>\n",
       "      <th>TransactionNo</th>\n",
       "      <th>Date</th>\n",
       "      <th>ProductNo</th>\n",
       "      <th>ProductName</th>\n",
       "      <th>Price</th>\n",
       "      <th>Quantity</th>\n",
       "      <th>CustomerNo</th>\n",
       "      <th>Country</th>\n",
       "      <th>Total_Cost</th>\n",
       "    </tr>\n",
       "  </thead>\n",
       "  <tbody>\n",
       "    <tr>\n",
       "      <th>0</th>\n",
       "      <td>581482</td>\n",
       "      <td>12/9/2019</td>\n",
       "      <td>22485</td>\n",
       "      <td>Set Of 2 Wooden Market Crates</td>\n",
       "      <td>21.47</td>\n",
       "      <td>12</td>\n",
       "      <td>17490.0</td>\n",
       "      <td>United Kingdom</td>\n",
       "      <td>257.64</td>\n",
       "    </tr>\n",
       "    <tr>\n",
       "      <th>1</th>\n",
       "      <td>581475</td>\n",
       "      <td>12/9/2019</td>\n",
       "      <td>22596</td>\n",
       "      <td>Christmas Star Wish List Chalkboard</td>\n",
       "      <td>10.65</td>\n",
       "      <td>36</td>\n",
       "      <td>13069.0</td>\n",
       "      <td>United Kingdom</td>\n",
       "      <td>383.40</td>\n",
       "    </tr>\n",
       "    <tr>\n",
       "      <th>2</th>\n",
       "      <td>581475</td>\n",
       "      <td>12/9/2019</td>\n",
       "      <td>23235</td>\n",
       "      <td>Storage Tin Vintage Leaf</td>\n",
       "      <td>11.53</td>\n",
       "      <td>12</td>\n",
       "      <td>13069.0</td>\n",
       "      <td>United Kingdom</td>\n",
       "      <td>138.36</td>\n",
       "    </tr>\n",
       "    <tr>\n",
       "      <th>3</th>\n",
       "      <td>581475</td>\n",
       "      <td>12/9/2019</td>\n",
       "      <td>23272</td>\n",
       "      <td>Tree T-Light Holder Willie Winkie</td>\n",
       "      <td>10.65</td>\n",
       "      <td>12</td>\n",
       "      <td>13069.0</td>\n",
       "      <td>United Kingdom</td>\n",
       "      <td>127.80</td>\n",
       "    </tr>\n",
       "    <tr>\n",
       "      <th>4</th>\n",
       "      <td>581475</td>\n",
       "      <td>12/9/2019</td>\n",
       "      <td>23239</td>\n",
       "      <td>Set Of 4 Knick Knack Tins Poppies</td>\n",
       "      <td>11.94</td>\n",
       "      <td>6</td>\n",
       "      <td>13069.0</td>\n",
       "      <td>United Kingdom</td>\n",
       "      <td>71.64</td>\n",
       "    </tr>\n",
       "  </tbody>\n",
       "</table>\n",
       "</div>"
      ],
      "text/plain": [
       "  TransactionNo       Date ProductNo                          ProductName  \\\n",
       "0        581482  12/9/2019     22485        Set Of 2 Wooden Market Crates   \n",
       "1        581475  12/9/2019     22596  Christmas Star Wish List Chalkboard   \n",
       "2        581475  12/9/2019     23235             Storage Tin Vintage Leaf   \n",
       "3        581475  12/9/2019     23272    Tree T-Light Holder Willie Winkie   \n",
       "4        581475  12/9/2019     23239    Set Of 4 Knick Knack Tins Poppies   \n",
       "\n",
       "   Price  Quantity  CustomerNo         Country  Total_Cost  \n",
       "0  21.47        12     17490.0  United Kingdom      257.64  \n",
       "1  10.65        36     13069.0  United Kingdom      383.40  \n",
       "2  11.53        12     13069.0  United Kingdom      138.36  \n",
       "3  10.65        12     13069.0  United Kingdom      127.80  \n",
       "4  11.94         6     13069.0  United Kingdom       71.64  "
      ]
     },
     "execution_count": 35,
     "metadata": {},
     "output_type": "execute_result"
    }
   ],
   "source": [
    "df.head()"
   ]
  },
  {
   "cell_type": "markdown",
   "id": "ca00154c",
   "metadata": {},
   "source": [
    "Update datatype & separate date into different columns"
   ]
  },
  {
   "cell_type": "code",
   "execution_count": 36,
   "id": "e46a94a7",
   "metadata": {},
   "outputs": [],
   "source": [
    "df['Date'] = pd.to_datetime(df['Date'])\n",
    "df['Price'] = pd.to_numeric(df['Price'])\n",
    "df['Quantity'] = pd.to_numeric(df['Quantity'])"
   ]
  },
  {
   "cell_type": "code",
   "execution_count": 37,
   "id": "2ea91659",
   "metadata": {},
   "outputs": [],
   "source": [
    "df['CustomerNo'] = df['CustomerNo'].map(int)\n",
    "df['CustomerNo'] = df['CustomerNo'].map(str)"
   ]
  },
  {
   "cell_type": "code",
   "execution_count": 38,
   "id": "cbd068cf",
   "metadata": {},
   "outputs": [],
   "source": [
    "df['Time'] = df['Date'].dt.time\n",
    "df['Month'] = df['Date'].dt.month_name()\n",
    "df['Day'] = df['Date'].dt.day_name()\n",
    "df['Year']= df['Date'].dt.year"
   ]
  },
  {
   "cell_type": "code",
   "execution_count": 39,
   "id": "1873ca34",
   "metadata": {},
   "outputs": [
    {
     "name": "stdout",
     "output_type": "stream",
     "text": [
      "<class 'pandas.core.frame.DataFrame'>\n",
      "Int64Index: 531150 entries, 0 to 536349\n",
      "Data columns (total 13 columns):\n",
      " #   Column         Non-Null Count   Dtype         \n",
      "---  ------         --------------   -----         \n",
      " 0   TransactionNo  531150 non-null  object        \n",
      " 1   Date           531150 non-null  datetime64[ns]\n",
      " 2   ProductNo      531150 non-null  object        \n",
      " 3   ProductName    531150 non-null  object        \n",
      " 4   Price          531150 non-null  float64       \n",
      " 5   Quantity       531150 non-null  int64         \n",
      " 6   CustomerNo     531150 non-null  object        \n",
      " 7   Country        531150 non-null  object        \n",
      " 8   Total_Cost     531150 non-null  float64       \n",
      " 9   Time           531150 non-null  object        \n",
      " 10  Month          531150 non-null  object        \n",
      " 11  Day            531150 non-null  object        \n",
      " 12  Year           531150 non-null  int64         \n",
      "dtypes: datetime64[ns](1), float64(2), int64(2), object(8)\n",
      "memory usage: 56.7+ MB\n"
     ]
    }
   ],
   "source": [
    "df.info()"
   ]
  },
  {
   "cell_type": "code",
   "execution_count": 40,
   "id": "8650d8b5",
   "metadata": {},
   "outputs": [
    {
     "data": {
      "text/html": [
       "<div>\n",
       "<style scoped>\n",
       "    .dataframe tbody tr th:only-of-type {\n",
       "        vertical-align: middle;\n",
       "    }\n",
       "\n",
       "    .dataframe tbody tr th {\n",
       "        vertical-align: top;\n",
       "    }\n",
       "\n",
       "    .dataframe thead th {\n",
       "        text-align: right;\n",
       "    }\n",
       "</style>\n",
       "<table border=\"1\" class=\"dataframe\">\n",
       "  <thead>\n",
       "    <tr style=\"text-align: right;\">\n",
       "      <th></th>\n",
       "      <th>TransactionNo</th>\n",
       "      <th>Date</th>\n",
       "      <th>ProductNo</th>\n",
       "      <th>ProductName</th>\n",
       "      <th>Price</th>\n",
       "      <th>Quantity</th>\n",
       "      <th>CustomerNo</th>\n",
       "      <th>Country</th>\n",
       "      <th>Total_Cost</th>\n",
       "      <th>Time</th>\n",
       "      <th>Month</th>\n",
       "      <th>Day</th>\n",
       "      <th>Year</th>\n",
       "    </tr>\n",
       "  </thead>\n",
       "  <tbody>\n",
       "    <tr>\n",
       "      <th>0</th>\n",
       "      <td>581482</td>\n",
       "      <td>2019-12-09</td>\n",
       "      <td>22485</td>\n",
       "      <td>Set Of 2 Wooden Market Crates</td>\n",
       "      <td>21.47</td>\n",
       "      <td>12</td>\n",
       "      <td>17490</td>\n",
       "      <td>United Kingdom</td>\n",
       "      <td>257.64</td>\n",
       "      <td>00:00:00</td>\n",
       "      <td>December</td>\n",
       "      <td>Monday</td>\n",
       "      <td>2019</td>\n",
       "    </tr>\n",
       "    <tr>\n",
       "      <th>1</th>\n",
       "      <td>581475</td>\n",
       "      <td>2019-12-09</td>\n",
       "      <td>22596</td>\n",
       "      <td>Christmas Star Wish List Chalkboard</td>\n",
       "      <td>10.65</td>\n",
       "      <td>36</td>\n",
       "      <td>13069</td>\n",
       "      <td>United Kingdom</td>\n",
       "      <td>383.40</td>\n",
       "      <td>00:00:00</td>\n",
       "      <td>December</td>\n",
       "      <td>Monday</td>\n",
       "      <td>2019</td>\n",
       "    </tr>\n",
       "    <tr>\n",
       "      <th>2</th>\n",
       "      <td>581475</td>\n",
       "      <td>2019-12-09</td>\n",
       "      <td>23235</td>\n",
       "      <td>Storage Tin Vintage Leaf</td>\n",
       "      <td>11.53</td>\n",
       "      <td>12</td>\n",
       "      <td>13069</td>\n",
       "      <td>United Kingdom</td>\n",
       "      <td>138.36</td>\n",
       "      <td>00:00:00</td>\n",
       "      <td>December</td>\n",
       "      <td>Monday</td>\n",
       "      <td>2019</td>\n",
       "    </tr>\n",
       "    <tr>\n",
       "      <th>3</th>\n",
       "      <td>581475</td>\n",
       "      <td>2019-12-09</td>\n",
       "      <td>23272</td>\n",
       "      <td>Tree T-Light Holder Willie Winkie</td>\n",
       "      <td>10.65</td>\n",
       "      <td>12</td>\n",
       "      <td>13069</td>\n",
       "      <td>United Kingdom</td>\n",
       "      <td>127.80</td>\n",
       "      <td>00:00:00</td>\n",
       "      <td>December</td>\n",
       "      <td>Monday</td>\n",
       "      <td>2019</td>\n",
       "    </tr>\n",
       "    <tr>\n",
       "      <th>4</th>\n",
       "      <td>581475</td>\n",
       "      <td>2019-12-09</td>\n",
       "      <td>23239</td>\n",
       "      <td>Set Of 4 Knick Knack Tins Poppies</td>\n",
       "      <td>11.94</td>\n",
       "      <td>6</td>\n",
       "      <td>13069</td>\n",
       "      <td>United Kingdom</td>\n",
       "      <td>71.64</td>\n",
       "      <td>00:00:00</td>\n",
       "      <td>December</td>\n",
       "      <td>Monday</td>\n",
       "      <td>2019</td>\n",
       "    </tr>\n",
       "  </tbody>\n",
       "</table>\n",
       "</div>"
      ],
      "text/plain": [
       "  TransactionNo       Date ProductNo                          ProductName  \\\n",
       "0        581482 2019-12-09     22485        Set Of 2 Wooden Market Crates   \n",
       "1        581475 2019-12-09     22596  Christmas Star Wish List Chalkboard   \n",
       "2        581475 2019-12-09     23235             Storage Tin Vintage Leaf   \n",
       "3        581475 2019-12-09     23272    Tree T-Light Holder Willie Winkie   \n",
       "4        581475 2019-12-09     23239    Set Of 4 Knick Knack Tins Poppies   \n",
       "\n",
       "   Price  Quantity CustomerNo         Country  Total_Cost      Time     Month  \\\n",
       "0  21.47        12      17490  United Kingdom      257.64  00:00:00  December   \n",
       "1  10.65        36      13069  United Kingdom      383.40  00:00:00  December   \n",
       "2  11.53        12      13069  United Kingdom      138.36  00:00:00  December   \n",
       "3  10.65        12      13069  United Kingdom      127.80  00:00:00  December   \n",
       "4  11.94         6      13069  United Kingdom       71.64  00:00:00  December   \n",
       "\n",
       "      Day  Year  \n",
       "0  Monday  2019  \n",
       "1  Monday  2019  \n",
       "2  Monday  2019  \n",
       "3  Monday  2019  \n",
       "4  Monday  2019  "
      ]
     },
     "execution_count": 40,
     "metadata": {},
     "output_type": "execute_result"
    }
   ],
   "source": [
    "df.head()"
   ]
  },
  {
   "cell_type": "code",
   "execution_count": 41,
   "id": "3449bf15",
   "metadata": {},
   "outputs": [
    {
     "data": {
      "text/plain": [
       "5.13"
      ]
     },
     "execution_count": 41,
     "metadata": {},
     "output_type": "execute_result"
    }
   ],
   "source": [
    "# Checking min amount \n",
    "df['Price'].min()"
   ]
  },
  {
   "cell_type": "code",
   "execution_count": 42,
   "id": "da474b09",
   "metadata": {},
   "outputs": [
    {
     "data": {
      "text/html": [
       "<div>\n",
       "<style scoped>\n",
       "    .dataframe tbody tr th:only-of-type {\n",
       "        vertical-align: middle;\n",
       "    }\n",
       "\n",
       "    .dataframe tbody tr th {\n",
       "        vertical-align: top;\n",
       "    }\n",
       "\n",
       "    .dataframe thead th {\n",
       "        text-align: right;\n",
       "    }\n",
       "</style>\n",
       "<table border=\"1\" class=\"dataframe\">\n",
       "  <thead>\n",
       "    <tr style=\"text-align: right;\">\n",
       "      <th></th>\n",
       "      <th>Transaction_No</th>\n",
       "      <th>Date</th>\n",
       "      <th>Product_No</th>\n",
       "      <th>Product_Name</th>\n",
       "      <th>Price</th>\n",
       "      <th>Quantity</th>\n",
       "      <th>Customer_No</th>\n",
       "      <th>Country</th>\n",
       "      <th>Total_Cost</th>\n",
       "      <th>Time</th>\n",
       "      <th>Month</th>\n",
       "      <th>Day</th>\n",
       "      <th>Year</th>\n",
       "    </tr>\n",
       "  </thead>\n",
       "  <tbody>\n",
       "    <tr>\n",
       "      <th>0</th>\n",
       "      <td>581482</td>\n",
       "      <td>2019-12-09</td>\n",
       "      <td>22485</td>\n",
       "      <td>Set Of 2 Wooden Market Crates</td>\n",
       "      <td>21.47</td>\n",
       "      <td>12</td>\n",
       "      <td>17490</td>\n",
       "      <td>United Kingdom</td>\n",
       "      <td>257.64</td>\n",
       "      <td>00:00:00</td>\n",
       "      <td>December</td>\n",
       "      <td>Monday</td>\n",
       "      <td>2019</td>\n",
       "    </tr>\n",
       "    <tr>\n",
       "      <th>1</th>\n",
       "      <td>581475</td>\n",
       "      <td>2019-12-09</td>\n",
       "      <td>22596</td>\n",
       "      <td>Christmas Star Wish List Chalkboard</td>\n",
       "      <td>10.65</td>\n",
       "      <td>36</td>\n",
       "      <td>13069</td>\n",
       "      <td>United Kingdom</td>\n",
       "      <td>383.40</td>\n",
       "      <td>00:00:00</td>\n",
       "      <td>December</td>\n",
       "      <td>Monday</td>\n",
       "      <td>2019</td>\n",
       "    </tr>\n",
       "    <tr>\n",
       "      <th>2</th>\n",
       "      <td>581475</td>\n",
       "      <td>2019-12-09</td>\n",
       "      <td>23235</td>\n",
       "      <td>Storage Tin Vintage Leaf</td>\n",
       "      <td>11.53</td>\n",
       "      <td>12</td>\n",
       "      <td>13069</td>\n",
       "      <td>United Kingdom</td>\n",
       "      <td>138.36</td>\n",
       "      <td>00:00:00</td>\n",
       "      <td>December</td>\n",
       "      <td>Monday</td>\n",
       "      <td>2019</td>\n",
       "    </tr>\n",
       "    <tr>\n",
       "      <th>3</th>\n",
       "      <td>581475</td>\n",
       "      <td>2019-12-09</td>\n",
       "      <td>23272</td>\n",
       "      <td>Tree T-Light Holder Willie Winkie</td>\n",
       "      <td>10.65</td>\n",
       "      <td>12</td>\n",
       "      <td>13069</td>\n",
       "      <td>United Kingdom</td>\n",
       "      <td>127.80</td>\n",
       "      <td>00:00:00</td>\n",
       "      <td>December</td>\n",
       "      <td>Monday</td>\n",
       "      <td>2019</td>\n",
       "    </tr>\n",
       "    <tr>\n",
       "      <th>4</th>\n",
       "      <td>581475</td>\n",
       "      <td>2019-12-09</td>\n",
       "      <td>23239</td>\n",
       "      <td>Set Of 4 Knick Knack Tins Poppies</td>\n",
       "      <td>11.94</td>\n",
       "      <td>6</td>\n",
       "      <td>13069</td>\n",
       "      <td>United Kingdom</td>\n",
       "      <td>71.64</td>\n",
       "      <td>00:00:00</td>\n",
       "      <td>December</td>\n",
       "      <td>Monday</td>\n",
       "      <td>2019</td>\n",
       "    </tr>\n",
       "    <tr>\n",
       "      <th>...</th>\n",
       "      <td>...</td>\n",
       "      <td>...</td>\n",
       "      <td>...</td>\n",
       "      <td>...</td>\n",
       "      <td>...</td>\n",
       "      <td>...</td>\n",
       "      <td>...</td>\n",
       "      <td>...</td>\n",
       "      <td>...</td>\n",
       "      <td>...</td>\n",
       "      <td>...</td>\n",
       "      <td>...</td>\n",
       "      <td>...</td>\n",
       "    </tr>\n",
       "    <tr>\n",
       "      <th>536345</th>\n",
       "      <td>C536548</td>\n",
       "      <td>2018-12-01</td>\n",
       "      <td>22168</td>\n",
       "      <td>Organiser Wood Antique White</td>\n",
       "      <td>18.96</td>\n",
       "      <td>-2</td>\n",
       "      <td>12472</td>\n",
       "      <td>Germany</td>\n",
       "      <td>-37.92</td>\n",
       "      <td>00:00:00</td>\n",
       "      <td>December</td>\n",
       "      <td>Saturday</td>\n",
       "      <td>2018</td>\n",
       "    </tr>\n",
       "    <tr>\n",
       "      <th>536346</th>\n",
       "      <td>C536548</td>\n",
       "      <td>2018-12-01</td>\n",
       "      <td>21218</td>\n",
       "      <td>Red Spotty Biscuit Tin</td>\n",
       "      <td>14.09</td>\n",
       "      <td>-3</td>\n",
       "      <td>12472</td>\n",
       "      <td>Germany</td>\n",
       "      <td>-42.27</td>\n",
       "      <td>00:00:00</td>\n",
       "      <td>December</td>\n",
       "      <td>Saturday</td>\n",
       "      <td>2018</td>\n",
       "    </tr>\n",
       "    <tr>\n",
       "      <th>536347</th>\n",
       "      <td>C536548</td>\n",
       "      <td>2018-12-01</td>\n",
       "      <td>20957</td>\n",
       "      <td>Porcelain Hanging Bell Small</td>\n",
       "      <td>11.74</td>\n",
       "      <td>-1</td>\n",
       "      <td>12472</td>\n",
       "      <td>Germany</td>\n",
       "      <td>-11.74</td>\n",
       "      <td>00:00:00</td>\n",
       "      <td>December</td>\n",
       "      <td>Saturday</td>\n",
       "      <td>2018</td>\n",
       "    </tr>\n",
       "    <tr>\n",
       "      <th>536348</th>\n",
       "      <td>C536548</td>\n",
       "      <td>2018-12-01</td>\n",
       "      <td>22580</td>\n",
       "      <td>Advent Calendar Gingham Sack</td>\n",
       "      <td>16.35</td>\n",
       "      <td>-4</td>\n",
       "      <td>12472</td>\n",
       "      <td>Germany</td>\n",
       "      <td>-65.40</td>\n",
       "      <td>00:00:00</td>\n",
       "      <td>December</td>\n",
       "      <td>Saturday</td>\n",
       "      <td>2018</td>\n",
       "    </tr>\n",
       "    <tr>\n",
       "      <th>536349</th>\n",
       "      <td>C536548</td>\n",
       "      <td>2018-12-01</td>\n",
       "      <td>22767</td>\n",
       "      <td>Triple Photo Frame Cornice</td>\n",
       "      <td>20.45</td>\n",
       "      <td>-2</td>\n",
       "      <td>12472</td>\n",
       "      <td>Germany</td>\n",
       "      <td>-40.90</td>\n",
       "      <td>00:00:00</td>\n",
       "      <td>December</td>\n",
       "      <td>Saturday</td>\n",
       "      <td>2018</td>\n",
       "    </tr>\n",
       "  </tbody>\n",
       "</table>\n",
       "<p>531150 rows × 13 columns</p>\n",
       "</div>"
      ],
      "text/plain": [
       "       Transaction_No       Date Product_No  \\\n",
       "0              581482 2019-12-09      22485   \n",
       "1              581475 2019-12-09      22596   \n",
       "2              581475 2019-12-09      23235   \n",
       "3              581475 2019-12-09      23272   \n",
       "4              581475 2019-12-09      23239   \n",
       "...               ...        ...        ...   \n",
       "536345        C536548 2018-12-01      22168   \n",
       "536346        C536548 2018-12-01      21218   \n",
       "536347        C536548 2018-12-01      20957   \n",
       "536348        C536548 2018-12-01      22580   \n",
       "536349        C536548 2018-12-01      22767   \n",
       "\n",
       "                               Product_Name  Price  Quantity Customer_No  \\\n",
       "0             Set Of 2 Wooden Market Crates  21.47        12       17490   \n",
       "1       Christmas Star Wish List Chalkboard  10.65        36       13069   \n",
       "2                  Storage Tin Vintage Leaf  11.53        12       13069   \n",
       "3         Tree T-Light Holder Willie Winkie  10.65        12       13069   \n",
       "4         Set Of 4 Knick Knack Tins Poppies  11.94         6       13069   \n",
       "...                                     ...    ...       ...         ...   \n",
       "536345         Organiser Wood Antique White  18.96        -2       12472   \n",
       "536346               Red Spotty Biscuit Tin  14.09        -3       12472   \n",
       "536347         Porcelain Hanging Bell Small  11.74        -1       12472   \n",
       "536348         Advent Calendar Gingham Sack  16.35        -4       12472   \n",
       "536349           Triple Photo Frame Cornice  20.45        -2       12472   \n",
       "\n",
       "               Country  Total_Cost      Time     Month       Day  Year  \n",
       "0       United Kingdom      257.64  00:00:00  December    Monday  2019  \n",
       "1       United Kingdom      383.40  00:00:00  December    Monday  2019  \n",
       "2       United Kingdom      138.36  00:00:00  December    Monday  2019  \n",
       "3       United Kingdom      127.80  00:00:00  December    Monday  2019  \n",
       "4       United Kingdom       71.64  00:00:00  December    Monday  2019  \n",
       "...                ...         ...       ...       ...       ...   ...  \n",
       "536345         Germany      -37.92  00:00:00  December  Saturday  2018  \n",
       "536346         Germany      -42.27  00:00:00  December  Saturday  2018  \n",
       "536347         Germany      -11.74  00:00:00  December  Saturday  2018  \n",
       "536348         Germany      -65.40  00:00:00  December  Saturday  2018  \n",
       "536349         Germany      -40.90  00:00:00  December  Saturday  2018  \n",
       "\n",
       "[531150 rows x 13 columns]"
      ]
     },
     "execution_count": 42,
     "metadata": {},
     "output_type": "execute_result"
    }
   ],
   "source": [
    "# Renaming columns\n",
    "df.rename(columns={'TransactionNo': 'Transaction_No',\n",
    "                  'ProductNo': 'Product_No',\n",
    "                  'ProductName': 'Product_Name',\n",
    "                  'CustomerNo': 'Customer_No'})"
   ]
  },
  {
   "cell_type": "markdown",
   "id": "44c0c2ae",
   "metadata": {},
   "source": [
    "Data Questions & Visualization"
   ]
  },
  {
   "cell_type": "markdown",
   "id": "ab1d4cda",
   "metadata": {},
   "source": [
    "Calculate Sales Trend"
   ]
  },
  {
   "cell_type": "code",
   "execution_count": 43,
   "id": "d76f4551",
   "metadata": {},
   "outputs": [
    {
     "data": {
      "text/plain": [
       "2019-12-05    5280\n",
       "2019-12-08    4897\n",
       "2019-11-29    4248\n",
       "2019-11-16    4091\n",
       "2019-11-11    4004\n",
       "              ... \n",
       "2019-03-13     522\n",
       "2018-12-19     499\n",
       "2019-05-01     448\n",
       "2018-12-22     287\n",
       "2019-02-06     272\n",
       "Name: Date, Length: 305, dtype: int64"
      ]
     },
     "execution_count": 43,
     "metadata": {},
     "output_type": "execute_result"
    }
   ],
   "source": [
    "df['Date'].value_counts()"
   ]
  },
  {
   "cell_type": "code",
   "execution_count": 44,
   "id": "c4f2c6ad",
   "metadata": {},
   "outputs": [],
   "source": [
    "# Starting with getting the period month year\n",
    "df['month_year']= df['Date'].apply(lambda x: x.strftime('%Y~%m'))"
   ]
  },
  {
   "cell_type": "code",
   "execution_count": 45,
   "id": "e28710e7",
   "metadata": {},
   "outputs": [],
   "source": [
    "# Calculate counts of each month for values greater than 0\n",
    "df_quantity = df[df['Quantity']>0]"
   ]
  },
  {
   "cell_type": "code",
   "execution_count": 46,
   "id": "8ab69221",
   "metadata": {},
   "outputs": [],
   "source": [
    "df_quantity = df.groupby(['month_year'], as_index=False)['Total_Cost'].count()\n"
   ]
  },
  {
   "cell_type": "code",
   "execution_count": 47,
   "id": "ccf46be9",
   "metadata": {},
   "outputs": [],
   "source": [
    "df_quantity.columns= ['Date','Total_Cost']"
   ]
  },
  {
   "cell_type": "code",
   "execution_count": 48,
   "id": "c19a2654",
   "metadata": {},
   "outputs": [
    {
     "data": {
      "text/html": [
       "<div>\n",
       "<style scoped>\n",
       "    .dataframe tbody tr th:only-of-type {\n",
       "        vertical-align: middle;\n",
       "    }\n",
       "\n",
       "    .dataframe tbody tr th {\n",
       "        vertical-align: top;\n",
       "    }\n",
       "\n",
       "    .dataframe thead th {\n",
       "        text-align: right;\n",
       "    }\n",
       "</style>\n",
       "<table border=\"1\" class=\"dataframe\">\n",
       "  <thead>\n",
       "    <tr style=\"text-align: right;\">\n",
       "      <th></th>\n",
       "      <th>Date</th>\n",
       "      <th>Total_Cost</th>\n",
       "    </tr>\n",
       "  </thead>\n",
       "  <tbody>\n",
       "    <tr>\n",
       "      <th>0</th>\n",
       "      <td>2018~12</td>\n",
       "      <td>41565</td>\n",
       "    </tr>\n",
       "    <tr>\n",
       "      <th>1</th>\n",
       "      <td>2019~01</td>\n",
       "      <td>34530</td>\n",
       "    </tr>\n",
       "    <tr>\n",
       "      <th>2</th>\n",
       "      <td>2019~02</td>\n",
       "      <td>27173</td>\n",
       "    </tr>\n",
       "    <tr>\n",
       "      <th>3</th>\n",
       "      <td>2019~03</td>\n",
       "      <td>35932</td>\n",
       "    </tr>\n",
       "    <tr>\n",
       "      <th>4</th>\n",
       "      <td>2019~04</td>\n",
       "      <td>29235</td>\n",
       "    </tr>\n",
       "  </tbody>\n",
       "</table>\n",
       "</div>"
      ],
      "text/plain": [
       "      Date  Total_Cost\n",
       "0  2018~12       41565\n",
       "1  2019~01       34530\n",
       "2  2019~02       27173\n",
       "3  2019~03       35932\n",
       "4  2019~04       29235"
      ]
     },
     "execution_count": 48,
     "metadata": {},
     "output_type": "execute_result"
    }
   ],
   "source": [
    "df_quantity.head()"
   ]
  },
  {
   "cell_type": "code",
   "execution_count": 49,
   "id": "2b07fe72",
   "metadata": {},
   "outputs": [
    {
     "data": {
      "image/png": "[encoded data removed]",
      "text/plain": [
       "<Figure size 1000x500 with 1 Axes>"
      ]
     },
     "metadata": {},
     "output_type": "display_data"
    }
   ],
   "source": [
    "plt.figure(figsize=(10,5))\n",
    "plt.style.use('fivethirtyeight')\n",
    "plt.xlabel('Months',fontsize=16, fontweight='bold')\n",
    "plt.ylabel('Values',fontsize=16, fontweight='bold')\n",
    "plt.title('Monthly Sales', fontweight='bold')\n",
    "plt.plot(df_quantity['Date'], df_quantity['Total_Cost'],'-o', color='green')\n",
    "fmt = FuncFormatter('{:,.0f}'.format)\n",
    "plt.gca().yaxis.set_major_formatter(fmt)\n",
    "plt.show()"
   ]
  },
  {
   "cell_type": "code",
   "execution_count": 50,
   "id": "121d639d",
   "metadata": {},
   "outputs": [],
   "source": [
    "# Calculate sales trend over the months\n",
    "df_trend_months = df.groupby(['month_year'], as_index=False)['Total_Cost'].sum()\n"
   ]
  },
  {
   "cell_type": "code",
   "execution_count": 51,
   "id": "96ce64d5",
   "metadata": {},
   "outputs": [
    {
     "data": {
      "text/html": [
       "<div>\n",
       "<style scoped>\n",
       "    .dataframe tbody tr th:only-of-type {\n",
       "        vertical-align: middle;\n",
       "    }\n",
       "\n",
       "    .dataframe tbody tr th {\n",
       "        vertical-align: top;\n",
       "    }\n",
       "\n",
       "    .dataframe thead th {\n",
       "        text-align: right;\n",
       "    }\n",
       "</style>\n",
       "<table border=\"1\" class=\"dataframe\">\n",
       "  <thead>\n",
       "    <tr style=\"text-align: right;\">\n",
       "      <th></th>\n",
       "      <th>Date</th>\n",
       "      <th>Total_Cost</th>\n",
       "    </tr>\n",
       "  </thead>\n",
       "  <tbody>\n",
       "    <tr>\n",
       "      <th>0</th>\n",
       "      <td>2018~12</td>\n",
       "      <td>4217196.99</td>\n",
       "    </tr>\n",
       "    <tr>\n",
       "      <th>1</th>\n",
       "      <td>2019~01</td>\n",
       "      <td>3638085.05</td>\n",
       "    </tr>\n",
       "    <tr>\n",
       "      <th>2</th>\n",
       "      <td>2019~02</td>\n",
       "      <td>3291955.62</td>\n",
       "    </tr>\n",
       "    <tr>\n",
       "      <th>3</th>\n",
       "      <td>2019~03</td>\n",
       "      <td>4339649.36</td>\n",
       "    </tr>\n",
       "    <tr>\n",
       "      <th>4</th>\n",
       "      <td>2019~04</td>\n",
       "      <td>3405988.90</td>\n",
       "    </tr>\n",
       "  </tbody>\n",
       "</table>\n",
       "</div>"
      ],
      "text/plain": [
       "      Date  Total_Cost\n",
       "0  2018~12  4217196.99\n",
       "1  2019~01  3638085.05\n",
       "2  2019~02  3291955.62\n",
       "3  2019~03  4339649.36\n",
       "4  2019~04  3405988.90"
      ]
     },
     "execution_count": 51,
     "metadata": {},
     "output_type": "execute_result"
    }
   ],
   "source": [
    "df_trend_months.columns= ['Date', 'Total_Cost']\n",
    "df_trend_months.head()"
   ]
  },
  {
   "cell_type": "code",
   "execution_count": 52,
   "id": "2fe90e48",
   "metadata": {},
   "outputs": [
    {
     "data": {
      "image/png": "[encoded data removed]",
      "text/plain": [
       "<Figure size 1000x500 with 1 Axes>"
      ]
     },
     "metadata": {},
     "output_type": "display_data"
    }
   ],
   "source": [
    "def millions(y, pos):\n",
    "    return '%1.1fM' % (y*1e-6)\n",
    "formatter = FuncFormatter(millions)\n",
    "fig, ax = plt.subplots(figsize=(10,5))\n",
    "ax.yaxis.set_major_formatter(formatter)\n",
    "ax.set_ylabel('Values',fontsize=16, fontweight='bold')\n",
    "ax.set_xlabel('Months',fontsize=16, fontweight='bold')\n",
    "ax.set_title('Sales Trend', fontweight='bold')\n",
    "plt.plot(df_trend_months['Date'], df_trend_months['Total_Cost'],'-s', color='indigo')\n",
    "plt.show()"
   ]
  },
  {
   "cell_type": "markdown",
   "id": "2c2b616d",
   "metadata": {},
   "source": [
    "A huge sales jump starting after August 2019, reaching its highest peak in November 2019 when the holiday shopping season kicks off. It also explains why there's fewer sales movements between December 18 and summer 19 as festivals would have passed and sales returned to normal where shopping habits decrease with fewer consumer demands. The lowest data recorded is in December 19 but it's unclear if this is due to limited datasets or simply a decrease in sales. But nevertheless, it's fair to say the two graphs show sales growth over the year."
   ]
  },
  {
   "cell_type": "markdown",
   "id": "f02f410a",
   "metadata": {},
   "source": [
    "Top product names by Sales"
   ]
  },
  {
   "cell_type": "code",
   "execution_count": 53,
   "id": "39af45d4",
   "metadata": {},
   "outputs": [
    {
     "data": {
      "text/plain": [
       "Index(['TransactionNo', 'Date', 'ProductNo', 'ProductName', 'Price',\n",
       "       'Quantity', 'CustomerNo', 'Country', 'Total_Cost', 'Time', 'Month',\n",
       "       'Day', 'Year', 'month_year'],\n",
       "      dtype='object')"
      ]
     },
     "execution_count": 53,
     "metadata": {},
     "output_type": "execute_result"
    }
   ],
   "source": [
    "df.columns"
   ]
  },
  {
   "cell_type": "code",
   "execution_count": 54,
   "id": "f6c306e4",
   "metadata": {},
   "outputs": [],
   "source": [
    "product_names = df.groupby(['ProductName'], as_index=False)['Total_Cost'].sum()\n"
   ]
  },
  {
   "cell_type": "code",
   "execution_count": 55,
   "id": "d98a4222",
   "metadata": {},
   "outputs": [],
   "source": [
    "product_names = product_names.sort_values('Total_Cost', ascending = False).head(10)\n"
   ]
  },
  {
   "cell_type": "code",
   "execution_count": 56,
   "id": "05382d3c",
   "metadata": {},
   "outputs": [],
   "source": [
    "# To avoid seeing all product names, only fetch the top 5 by Sales\n",
    "product_names = product_names[:5]"
   ]
  },
  {
   "cell_type": "code",
   "execution_count": 57,
   "id": "643df68a",
   "metadata": {},
   "outputs": [
    {
     "data": {
      "text/html": [
       "<div>\n",
       "<style scoped>\n",
       "    .dataframe tbody tr th:only-of-type {\n",
       "        vertical-align: middle;\n",
       "    }\n",
       "\n",
       "    .dataframe tbody tr th {\n",
       "        vertical-align: top;\n",
       "    }\n",
       "\n",
       "    .dataframe thead th {\n",
       "        text-align: right;\n",
       "    }\n",
       "</style>\n",
       "<table border=\"1\" class=\"dataframe\">\n",
       "  <thead>\n",
       "    <tr style=\"text-align: right;\">\n",
       "      <th></th>\n",
       "      <th>ProductName</th>\n",
       "      <th>Total_Cost</th>\n",
       "    </tr>\n",
       "  </thead>\n",
       "  <tbody>\n",
       "    <tr>\n",
       "      <th>2489</th>\n",
       "      <td>Popcorn Holder</td>\n",
       "      <td>583075.23</td>\n",
       "    </tr>\n",
       "    <tr>\n",
       "      <th>3685</th>\n",
       "      <td>World War 2 Gliders Asstd Designs</td>\n",
       "      <td>556157.63</td>\n",
       "    </tr>\n",
       "    <tr>\n",
       "      <th>2210</th>\n",
       "      <td>Paper Craft Little Birdie</td>\n",
       "      <td>501359.05</td>\n",
       "    </tr>\n",
       "    <tr>\n",
       "      <th>828</th>\n",
       "      <td>Cream Hanging Heart T-Light Holder</td>\n",
       "      <td>451163.73</td>\n",
       "    </tr>\n",
       "    <tr>\n",
       "      <th>204</th>\n",
       "      <td>Assorted Colour Bird Ornament</td>\n",
       "      <td>419557.68</td>\n",
       "    </tr>\n",
       "  </tbody>\n",
       "</table>\n",
       "</div>"
      ],
      "text/plain": [
       "                             ProductName  Total_Cost\n",
       "2489                      Popcorn Holder   583075.23\n",
       "3685   World War 2 Gliders Asstd Designs   556157.63\n",
       "2210           Paper Craft Little Birdie   501359.05\n",
       "828   Cream Hanging Heart T-Light Holder   451163.73\n",
       "204        Assorted Colour Bird Ornament   419557.68"
      ]
     },
     "execution_count": 57,
     "metadata": {},
     "output_type": "execute_result"
    }
   ],
   "source": [
    "product_names.head()"
   ]
  },
  {
   "cell_type": "code",
   "execution_count": 58,
   "id": "02c4d9c0",
   "metadata": {},
   "outputs": [
    {
     "data": {
      "image/png": "[encoded data removed]",
      "text/plain": [
       "<Figure size 1500x600 with 1 Axes>"
      ]
     },
     "metadata": {},
     "output_type": "display_data"
    }
   ],
   "source": [
    "plt.figure(figsize=(15,6))\n",
    "plt.style.use('fivethirtyeight')\n",
    "plt.xticks(rotation='horizontal', size=20)\n",
    "plt.yticks(size=20)\n",
    "plt.xlabel('Value in sales',fontsize=22, fontweight='bold')\n",
    "plt.ylabel('Product Name', fontsize=22, fontweight='bold')\n",
    "plt.title('Top 5 products',fontsize=30, fontweight='bold')\n",
    "plt.barh(product_names['ProductName'], product_names['Total_Cost'], color='indigo')\n",
    "fmt = FuncFormatter('{:,.0f}'.format)\n",
    "plt.gca().xaxis.set_major_formatter(fmt)\n",
    "plt.show()"
   ]
  },
  {
   "cell_type": "markdown",
   "id": "18eaa8a0",
   "metadata": {},
   "source": [
    "Top 5 products by quantity"
   ]
  },
  {
   "cell_type": "code",
   "execution_count": 59,
   "id": "90d4c776",
   "metadata": {},
   "outputs": [],
   "source": [
    "products_sold = df.groupby(['ProductName'], as_index=False)['Quantity'].sum()\n"
   ]
  },
  {
   "cell_type": "code",
   "execution_count": 60,
   "id": "89a014e4",
   "metadata": {},
   "outputs": [],
   "source": [
    "products_sold = products_sold.sort_values('Quantity', ascending = False).head()\n"
   ]
  },
  {
   "cell_type": "code",
   "execution_count": 61,
   "id": "9303827b",
   "metadata": {},
   "outputs": [],
   "source": [
    "products_sold = products_sold[:5]"
   ]
  },
  {
   "cell_type": "code",
   "execution_count": 62,
   "id": "c398a8fa",
   "metadata": {},
   "outputs": [
    {
     "data": {
      "text/html": [
       "<div>\n",
       "<style scoped>\n",
       "    .dataframe tbody tr th:only-of-type {\n",
       "        vertical-align: middle;\n",
       "    }\n",
       "\n",
       "    .dataframe tbody tr th {\n",
       "        vertical-align: top;\n",
       "    }\n",
       "\n",
       "    .dataframe thead th {\n",
       "        text-align: right;\n",
       "    }\n",
       "</style>\n",
       "<table border=\"1\" class=\"dataframe\">\n",
       "  <thead>\n",
       "    <tr style=\"text-align: right;\">\n",
       "      <th></th>\n",
       "      <th>ProductName</th>\n",
       "      <th>Quantity</th>\n",
       "    </tr>\n",
       "  </thead>\n",
       "  <tbody>\n",
       "    <tr>\n",
       "      <th>2489</th>\n",
       "      <td>Popcorn Holder</td>\n",
       "      <td>56431</td>\n",
       "    </tr>\n",
       "    <tr>\n",
       "      <th>3685</th>\n",
       "      <td>World War 2 Gliders Asstd Designs</td>\n",
       "      <td>53751</td>\n",
       "    </tr>\n",
       "    <tr>\n",
       "      <th>1679</th>\n",
       "      <td>Jumbo Bag Red Retrospot</td>\n",
       "      <td>47260</td>\n",
       "    </tr>\n",
       "    <tr>\n",
       "      <th>204</th>\n",
       "      <td>Assorted Colour Bird Ornament</td>\n",
       "      <td>36346</td>\n",
       "    </tr>\n",
       "    <tr>\n",
       "      <th>2164</th>\n",
       "      <td>Pack Of 72 Retrospot Cake Cases</td>\n",
       "      <td>36208</td>\n",
       "    </tr>\n",
       "  </tbody>\n",
       "</table>\n",
       "</div>"
      ],
      "text/plain": [
       "                            ProductName  Quantity\n",
       "2489                     Popcorn Holder     56431\n",
       "3685  World War 2 Gliders Asstd Designs     53751\n",
       "1679            Jumbo Bag Red Retrospot     47260\n",
       "204       Assorted Colour Bird Ornament     36346\n",
       "2164    Pack Of 72 Retrospot Cake Cases     36208"
      ]
     },
     "execution_count": 62,
     "metadata": {},
     "output_type": "execute_result"
    }
   ],
   "source": [
    "products_sold.head()"
   ]
  },
  {
   "cell_type": "code",
   "execution_count": 63,
   "id": "df4c6028",
   "metadata": {},
   "outputs": [
    {
     "data": {
      "image/png": "[encoded data removed]",
      "text/plain": [
       "<Figure size 1500x600 with 1 Axes>"
      ]
     },
     "metadata": {},
     "output_type": "display_data"
    }
   ],
   "source": [
    "plt.figure(figsize=(15,6))\n",
    "plt.style.use('fivethirtyeight')\n",
    "plt.xticks(rotation='horizontal', size=15)\n",
    "plt.yticks(size=20)\n",
    "plt.xlabel('Quantity',fontsize=22, fontweight='bold')\n",
    "plt.ylabel('Product Name',fontsize=22, fontweight='bold')\n",
    "plt.title('Top 5 products', fontsize=30, fontweight='bold')\n",
    "plt.barh(products_sold ['ProductName'], products_sold['Quantity'], color='darkslategrey')\n",
    "fmt = FuncFormatter('{:,.0f}'.format)\n",
    "plt.gca().xaxis.set_major_formatter(fmt)\n",
    "plt.show()"
   ]
  },
  {
   "cell_type": "markdown",
   "id": "b7531f9d",
   "metadata": {},
   "source": [
    "Countries with most sales"
   ]
  },
  {
   "cell_type": "code",
   "execution_count": 64,
   "id": "1e6392f8",
   "metadata": {},
   "outputs": [],
   "source": [
    "topcountries_sales= df.groupby(['Country'], as_index=False)['Total_Cost'].sum()\n"
   ]
  },
  {
   "cell_type": "code",
   "execution_count": 65,
   "id": "b4bc0259",
   "metadata": {},
   "outputs": [],
   "source": [
    "topcountries_sales = topcountries_sales.sort_values('Total_Cost', ascending = False)\n"
   ]
  },
  {
   "cell_type": "code",
   "execution_count": 66,
   "id": "7ff617f6",
   "metadata": {},
   "outputs": [],
   "source": [
    "topcountries_sales = topcountries_sales[:5]"
   ]
  },
  {
   "cell_type": "code",
   "execution_count": 67,
   "id": "50a1b9c0",
   "metadata": {},
   "outputs": [
    {
     "data": {
      "text/html": [
       "<div>\n",
       "<style scoped>\n",
       "    .dataframe tbody tr th:only-of-type {\n",
       "        vertical-align: middle;\n",
       "    }\n",
       "\n",
       "    .dataframe tbody tr th {\n",
       "        vertical-align: top;\n",
       "    }\n",
       "\n",
       "    .dataframe thead th {\n",
       "        text-align: right;\n",
       "    }\n",
       "</style>\n",
       "<table border=\"1\" class=\"dataframe\">\n",
       "  <thead>\n",
       "    <tr style=\"text-align: right;\">\n",
       "      <th></th>\n",
       "      <th>Country</th>\n",
       "      <th>Total_Cost</th>\n",
       "    </tr>\n",
       "  </thead>\n",
       "  <tbody>\n",
       "    <tr>\n",
       "      <th>36</th>\n",
       "      <td>United Kingdom</td>\n",
       "      <td>49837557.96</td>\n",
       "    </tr>\n",
       "    <tr>\n",
       "      <th>24</th>\n",
       "      <td>Netherlands</td>\n",
       "      <td>2147811.39</td>\n",
       "    </tr>\n",
       "    <tr>\n",
       "      <th>10</th>\n",
       "      <td>EIRE</td>\n",
       "      <td>1659053.51</td>\n",
       "    </tr>\n",
       "    <tr>\n",
       "      <th>14</th>\n",
       "      <td>Germany</td>\n",
       "      <td>1348561.75</td>\n",
       "    </tr>\n",
       "    <tr>\n",
       "      <th>13</th>\n",
       "      <td>France</td>\n",
       "      <td>1316144.75</td>\n",
       "    </tr>\n",
       "  </tbody>\n",
       "</table>\n",
       "</div>"
      ],
      "text/plain": [
       "           Country   Total_Cost\n",
       "36  United Kingdom  49837557.96\n",
       "24     Netherlands   2147811.39\n",
       "10            EIRE   1659053.51\n",
       "14         Germany   1348561.75\n",
       "13          France   1316144.75"
      ]
     },
     "execution_count": 67,
     "metadata": {},
     "output_type": "execute_result"
    }
   ],
   "source": [
    "topcountries_sales.head()"
   ]
  },
  {
   "cell_type": "code",
   "execution_count": 68,
   "id": "e526d205",
   "metadata": {
    "scrolled": true
   },
   "outputs": [
    {
     "data": {
      "text/plain": [
       "<function matplotlib.pyplot.show(close=None, block=None)>"
      ]
     },
     "execution_count": 68,
     "metadata": {},
     "output_type": "execute_result"
    },
    {
     "data": {
      "image/png": "[encoded data removed]",
      "text/plain": [
       "<Figure size 1000x500 with 1 Axes>"
      ]
     },
     "metadata": {},
     "output_type": "display_data"
    }
   ],
   "source": [
    "color = sns.color_palette(\"flare\")\n",
    "color.reverse()\n",
    "def millions(y, pos):\n",
    "    return '%1.1fM' % (y*1e-6)\n",
    "formatter = FuncFormatter(millions)\n",
    "fig, ax2 = plt.subplots(figsize=(10,5))\n",
    "ax2.yaxis.set_major_formatter(formatter)\n",
    "ax2.set_title('Top Selling Countries',fontsize=22, fontweight='bold')\n",
    "ax2 = sns.barplot(y='Total_Cost', x='Country', data = topcountries_sales, palette= color)\n",
    "ax2.set_ylabel('Values',fontweight='bold')\n",
    "ax2.set_xlabel('Country',fontweight='bold')\n",
    "# plt.xticks(rotation = 45)\n",
    "plt.show"
   ]
  },
  {
   "cell_type": "markdown",
   "id": "63297ec8",
   "metadata": {},
   "source": [
    "From the plot, it's clear UK is the top selling country amongst all other countries but this could be due to several reasons. \n",
    "\n",
    "High wages dictate the likelihood of having disposal income to purchase products, recent report from the World Bank shows the Netherlands is 7th on the list of top 10 European Countries with the highest salaries, with Germany taking the 8th position and Ireland is 10th on the list of the World's highest salary. Although high wages would be a good contributing factor to a high surge in total cost in the UK, it doesn't determine other factors such as marketing and advertising budgets allocated to each country as it's clear from the report, other countries with less total revenue have a much higher salary to UK. \n",
    "\n",
    "As stated above, another good possibility is a higher spent on marketing and advertising in the UK than in other countries. The more budget allocated towards marketing, the higher the likelihood to target more customers and achieve more sales so several factors to consider before drawing a concrete conclusion to this analysis"
   ]
  },
  {
   "cell_type": "code",
   "execution_count": 69,
   "id": "019d8fc8",
   "metadata": {},
   "outputs": [],
   "source": [
    "leastcountries_sales= df.groupby(['Country'], as_index=False)['Total_Cost'].sum()\n"
   ]
  },
  {
   "cell_type": "code",
   "execution_count": 70,
   "id": "51c1128c",
   "metadata": {},
   "outputs": [],
   "source": [
    "leastcountries_sales = leastcountries_sales.sort_values('Total_Cost')\n"
   ]
  },
  {
   "cell_type": "code",
   "execution_count": 71,
   "id": "35a170c6",
   "metadata": {},
   "outputs": [
    {
     "data": {
      "text/html": [
       "<div>\n",
       "<style scoped>\n",
       "    .dataframe tbody tr th:only-of-type {\n",
       "        vertical-align: middle;\n",
       "    }\n",
       "\n",
       "    .dataframe tbody tr th {\n",
       "        vertical-align: top;\n",
       "    }\n",
       "\n",
       "    .dataframe thead th {\n",
       "        text-align: right;\n",
       "    }\n",
       "</style>\n",
       "<table border=\"1\" class=\"dataframe\">\n",
       "  <thead>\n",
       "    <tr style=\"text-align: right;\">\n",
       "      <th></th>\n",
       "      <th>Country</th>\n",
       "      <th>Total_Cost</th>\n",
       "    </tr>\n",
       "  </thead>\n",
       "  <tbody>\n",
       "    <tr>\n",
       "      <th>29</th>\n",
       "      <td>Saudi Arabia</td>\n",
       "      <td>903.15</td>\n",
       "    </tr>\n",
       "    <tr>\n",
       "      <th>2</th>\n",
       "      <td>Bahrain</td>\n",
       "      <td>3226.86</td>\n",
       "    </tr>\n",
       "    <tr>\n",
       "      <th>28</th>\n",
       "      <td>RSA</td>\n",
       "      <td>4259.83</td>\n",
       "    </tr>\n",
       "    <tr>\n",
       "      <th>4</th>\n",
       "      <td>Brazil</td>\n",
       "      <td>4652.27</td>\n",
       "    </tr>\n",
       "    <tr>\n",
       "      <th>21</th>\n",
       "      <td>Lebanon</td>\n",
       "      <td>5692.32</td>\n",
       "    </tr>\n",
       "  </tbody>\n",
       "</table>\n",
       "</div>"
      ],
      "text/plain": [
       "         Country  Total_Cost\n",
       "29  Saudi Arabia      903.15\n",
       "2        Bahrain     3226.86\n",
       "28           RSA     4259.83\n",
       "4         Brazil     4652.27\n",
       "21       Lebanon     5692.32"
      ]
     },
     "execution_count": 71,
     "metadata": {},
     "output_type": "execute_result"
    }
   ],
   "source": [
    "leastcountries_sales = leastcountries_sales[:5]\n",
    "leastcountries_sales"
   ]
  },
  {
   "cell_type": "code",
   "execution_count": 72,
   "id": "692ac19c",
   "metadata": {},
   "outputs": [
    {
     "data": {
      "image/png": "[encoded data removed]",
      "text/plain": [
       "<Figure size 1000x500 with 1 Axes>"
      ]
     },
     "metadata": {},
     "output_type": "display_data"
    }
   ],
   "source": [
    "colours=['dimgray', 'maroon', 'olivedrab','darkslategray', 'midnightblue']\n",
    "explode= [0,0,0,0,0.05]\n",
    "fig, ax = plt.subplots(figsize =(10,5))\n",
    "ax.axis('equal')\n",
    "ax.set_title('Least Selling Countries', fontweight='bold', fontdict={'fontsize': 20})\n",
    "# ax.pie(leastcountries_sales['Total_Cost'], labels = leastcountries_sales['Country'], explode=explode, shadow=True, autopct='%1.1f%%',wedgeprops={'edgecolor': 'black'})\n",
    "_, _, autopcts= ax.pie(leastcountries_sales['Total_Cost'], explode=explode,shadow=True, colors=colours,autopct='%1.1f%%',wedgeprops={'edgecolor': 'black'})\n",
    "fig.tight_layout()\n",
    "font = font_manager.FontProperties(family= 'Hiragino Sans', style='normal',weight='bold', size=12)\n",
    "plt.legend(labels = leastcountries_sales['Country'],prop=font)\n",
    "fig.set_facecolor('white')\n",
    "plt.setp(autopcts, **{'color':'ghostwhite', 'weight':'bold', 'fontsize':10})\n",
    "plt.show()"
   ]
  },
  {
   "cell_type": "markdown",
   "id": "6e5630c6",
   "metadata": {},
   "source": [
    "Days with most Sales"
   ]
  },
  {
   "cell_type": "code",
   "execution_count": 73,
   "id": "f677eb8c",
   "metadata": {},
   "outputs": [],
   "source": [
    "DaySales = df.groupby(['Day'], as_index=False)['Total_Cost'].count()"
   ]
  },
  {
   "cell_type": "code",
   "execution_count": 74,
   "id": "fe332541",
   "metadata": {},
   "outputs": [
    {
     "data": {
      "text/html": [
       "<div>\n",
       "<style scoped>\n",
       "    .dataframe tbody tr th:only-of-type {\n",
       "        vertical-align: middle;\n",
       "    }\n",
       "\n",
       "    .dataframe tbody tr th {\n",
       "        vertical-align: top;\n",
       "    }\n",
       "\n",
       "    .dataframe thead th {\n",
       "        text-align: right;\n",
       "    }\n",
       "</style>\n",
       "<table border=\"1\" class=\"dataframe\">\n",
       "  <thead>\n",
       "    <tr style=\"text-align: right;\">\n",
       "      <th></th>\n",
       "      <th>Day</th>\n",
       "      <th>Total_Cost</th>\n",
       "    </tr>\n",
       "  </thead>\n",
       "  <tbody>\n",
       "    <tr>\n",
       "      <th>3</th>\n",
       "      <td>Sunday</td>\n",
       "      <td>101952</td>\n",
       "    </tr>\n",
       "    <tr>\n",
       "      <th>0</th>\n",
       "      <td>Friday</td>\n",
       "      <td>99973</td>\n",
       "    </tr>\n",
       "    <tr>\n",
       "      <th>4</th>\n",
       "      <td>Thursday</td>\n",
       "      <td>93433</td>\n",
       "    </tr>\n",
       "    <tr>\n",
       "      <th>2</th>\n",
       "      <td>Saturday</td>\n",
       "      <td>92685</td>\n",
       "    </tr>\n",
       "    <tr>\n",
       "      <th>1</th>\n",
       "      <td>Monday</td>\n",
       "      <td>80460</td>\n",
       "    </tr>\n",
       "    <tr>\n",
       "      <th>5</th>\n",
       "      <td>Wednesday</td>\n",
       "      <td>62647</td>\n",
       "    </tr>\n",
       "  </tbody>\n",
       "</table>\n",
       "</div>"
      ],
      "text/plain": [
       "         Day  Total_Cost\n",
       "3     Sunday      101952\n",
       "0     Friday       99973\n",
       "4   Thursday       93433\n",
       "2   Saturday       92685\n",
       "1     Monday       80460\n",
       "5  Wednesday       62647"
      ]
     },
     "execution_count": 74,
     "metadata": {},
     "output_type": "execute_result"
    }
   ],
   "source": [
    "DaySales=DaySales.sort_values('Total_Cost', ascending=False)\n",
    "DaySales"
   ]
  },
  {
   "cell_type": "code",
   "execution_count": 75,
   "id": "db329860",
   "metadata": {},
   "outputs": [
    {
     "data": {
      "image/png": "[encoded data removed]",
      "text/plain": [
       "<Figure size 1000x500 with 1 Axes>"
      ]
     },
     "metadata": {},
     "output_type": "display_data"
    }
   ],
   "source": [
    "#plot\n",
    "fig, ax5 = plt.subplots(figsize=(10,5))\n",
    "ax5.set_ylabel('Values', fontsize=16, fontweight='bold')\n",
    "ax5.set_xlabel('Weekdays',fontsize=16, fontweight='bold')\n",
    "ax5.set_title('Days with most Sales', fontsize=20, fontweight='bold')\n",
    "plt.plot(DaySales['Day'], DaySales['Total_Cost'],'-s', color='indigo')\n",
    "plt.show()"
   ]
  },
  {
   "cell_type": "markdown",
   "id": "1407c886",
   "metadata": {},
   "source": [
    "The best selling day is Sunday and the lowest is wednesday."
   ]
  },
  {
   "cell_type": "markdown",
   "id": "4341f8d6",
   "metadata": {},
   "source": [
    "Calculate Losses by Countries & Products"
   ]
  },
  {
   "cell_type": "code",
   "execution_count": 76,
   "id": "2aa84654",
   "metadata": {},
   "outputs": [],
   "source": [
    "# copy dataframe\n",
    "copy=df.copy()\n",
    "# get the cancelled transactions\n",
    "cancelled_transactions = copy[copy['Quantity'] < 0]"
   ]
  },
  {
   "cell_type": "code",
   "execution_count": 77,
   "id": "795790c6",
   "metadata": {},
   "outputs": [
    {
     "name": "stderr",
     "output_type": "stream",
     "text": [
      "/var/folders/zv/gfvqnk2x0972ygvfdf81g3z80000gn/T/ipykernel_1607/2230364649.py:2: SettingWithCopyWarning:\n",
      "\n",
      "\n",
      "A value is trying to be set on a copy of a slice from a DataFrame.\n",
      "Try using .loc[row_indexer,col_indexer] = value instead\n",
      "\n",
      "See the caveats in the documentation: https://pandas.pydata.org/pandas-docs/stable/user_guide/indexing.html#returning-a-view-versus-a-copy\n",
      "\n"
     ]
    }
   ],
   "source": [
    "# get the absolute numeric value for cancelled transactions\n",
    "cancelled_transactions['Quantity']=abs(cancelled_transactions['Quantity'])"
   ]
  },
  {
   "cell_type": "code",
   "execution_count": 78,
   "id": "1e522643",
   "metadata": {},
   "outputs": [
    {
     "data": {
      "text/html": [
       "<div>\n",
       "<style scoped>\n",
       "    .dataframe tbody tr th:only-of-type {\n",
       "        vertical-align: middle;\n",
       "    }\n",
       "\n",
       "    .dataframe tbody tr th {\n",
       "        vertical-align: top;\n",
       "    }\n",
       "\n",
       "    .dataframe thead th {\n",
       "        text-align: right;\n",
       "    }\n",
       "</style>\n",
       "<table border=\"1\" class=\"dataframe\">\n",
       "  <thead>\n",
       "    <tr style=\"text-align: right;\">\n",
       "      <th></th>\n",
       "      <th>ProductName</th>\n",
       "      <th>Quantity</th>\n",
       "    </tr>\n",
       "  </thead>\n",
       "  <tbody>\n",
       "    <tr>\n",
       "      <th>1148</th>\n",
       "      <td>Paper Craft Little Birdie</td>\n",
       "      <td>80995</td>\n",
       "    </tr>\n",
       "    <tr>\n",
       "      <th>994</th>\n",
       "      <td>Medium Ceramic Top Storage Jar</td>\n",
       "      <td>74494</td>\n",
       "    </tr>\n",
       "    <tr>\n",
       "      <th>1413</th>\n",
       "      <td>Rotating Silver Angels T-Light Hldr</td>\n",
       "      <td>9367</td>\n",
       "    </tr>\n",
       "    <tr>\n",
       "      <th>568</th>\n",
       "      <td>Fairy Cake Flannel Assorted Colour</td>\n",
       "      <td>3150</td>\n",
       "    </tr>\n",
       "    <tr>\n",
       "      <th>415</th>\n",
       "      <td>Cream Hanging Heart T-Light Holder</td>\n",
       "      <td>2578</td>\n",
       "    </tr>\n",
       "  </tbody>\n",
       "</table>\n",
       "</div>"
      ],
      "text/plain": [
       "                              ProductName  Quantity\n",
       "1148            Paper Craft Little Birdie     80995\n",
       "994        Medium Ceramic Top Storage Jar     74494\n",
       "1413  Rotating Silver Angels T-Light Hldr      9367\n",
       "568    Fairy Cake Flannel Assorted Colour      3150\n",
       "415    Cream Hanging Heart T-Light Holder      2578"
      ]
     },
     "execution_count": 78,
     "metadata": {},
     "output_type": "execute_result"
    }
   ],
   "source": [
    "# get the top 5 cancelled products\n",
    "cancelled_products=cancelled_transactions.groupby(['ProductName'], as_index=False)['Quantity'].sum().sort_values('Quantity', ascending=False)\n",
    "cancelled_products=cancelled_products[:5]\n",
    "cancelled_products"
   ]
  },
  {
   "cell_type": "code",
   "execution_count": 79,
   "id": "e35d3f3b",
   "metadata": {},
   "outputs": [
    {
     "data": {
      "image/png": "[encoded data removed]",
      "text/plain": [
       "<Figure size 1000x500 with 1 Axes>"
      ]
     },
     "metadata": {},
     "output_type": "display_data"
    }
   ],
   "source": [
    "colours=['darkslategray','dimgray','olivedrab','maroon', 'midnightblue']\n",
    "fig, ax = plt.subplots(figsize =(10,5))\n",
    "ax.axis('equal')\n",
    "ax.set_title('Top 5 Cancelled Products', fontdict={'fontsize': 20},fontweight='bold')\n",
    "_, _, autopcts=ax.pie(cancelled_products['Quantity'],shadow=True, colors=colours,autopct='%1.1f%%',wedgeprops={'edgecolor': 'black'})\n",
    "fig.tight_layout()\n",
    "font = font_manager.FontProperties(family= 'Iowan Old Style', style='normal', size=10)\n",
    "plt.legend(labels = cancelled_products['ProductName'],prop=font)\n",
    "fig.set_facecolor('white')\n",
    "plt.setp(autopcts, **{'color':'ghostwhite', 'weight':'bold', 'fontsize':8.5})\n",
    "plt.show()"
   ]
  },
  {
   "cell_type": "code",
   "execution_count": 80,
   "id": "05827ed8",
   "metadata": {},
   "outputs": [
    {
     "data": {
      "text/html": [
       "<div>\n",
       "<style scoped>\n",
       "    .dataframe tbody tr th:only-of-type {\n",
       "        vertical-align: middle;\n",
       "    }\n",
       "\n",
       "    .dataframe tbody tr th {\n",
       "        vertical-align: top;\n",
       "    }\n",
       "\n",
       "    .dataframe thead th {\n",
       "        text-align: right;\n",
       "    }\n",
       "</style>\n",
       "<table border=\"1\" class=\"dataframe\">\n",
       "  <thead>\n",
       "    <tr style=\"text-align: right;\">\n",
       "      <th></th>\n",
       "      <th>Country</th>\n",
       "      <th>Quantity</th>\n",
       "    </tr>\n",
       "  </thead>\n",
       "  <tbody>\n",
       "    <tr>\n",
       "      <th>24</th>\n",
       "      <td>United Kingdom</td>\n",
       "      <td>256321</td>\n",
       "    </tr>\n",
       "    <tr>\n",
       "      <th>7</th>\n",
       "      <td>EIRE</td>\n",
       "      <td>4185</td>\n",
       "    </tr>\n",
       "    <tr>\n",
       "      <th>11</th>\n",
       "      <td>Germany</td>\n",
       "      <td>1786</td>\n",
       "    </tr>\n",
       "    <tr>\n",
       "      <th>10</th>\n",
       "      <td>France</td>\n",
       "      <td>1588</td>\n",
       "    </tr>\n",
       "    <tr>\n",
       "      <th>23</th>\n",
       "      <td>USA</td>\n",
       "      <td>1424</td>\n",
       "    </tr>\n",
       "  </tbody>\n",
       "</table>\n",
       "</div>"
      ],
      "text/plain": [
       "           Country  Quantity\n",
       "24  United Kingdom    256321\n",
       "7             EIRE      4185\n",
       "11         Germany      1786\n",
       "10          France      1588\n",
       "23             USA      1424"
      ]
     },
     "execution_count": 80,
     "metadata": {},
     "output_type": "execute_result"
    }
   ],
   "source": [
    "# Calculation of top 5 cancelled transactions by countries\n",
    "cancelled_products_by_countries=cancelled_transactions.groupby(['Country'], as_index=False)['Quantity'].sum().sort_values('Quantity', ascending=False)\n",
    "cancelled_products_by_countries=cancelled_products_by_countries[:5]\n",
    "cancelled_products_by_countries"
   ]
  },
  {
   "cell_type": "code",
   "execution_count": 81,
   "id": "c600e1ac",
   "metadata": {},
   "outputs": [
    {
     "name": "stderr",
     "output_type": "stream",
     "text": [
      "/var/folders/zv/gfvqnk2x0972ygvfdf81g3z80000gn/T/ipykernel_1607/2314257259.py:13: UserWarning:\n",
      "\n",
      "FixedFormatter should only be used together with FixedLocator\n",
      "\n"
     ]
    },
    {
     "data": {
      "text/plain": [
       "<function matplotlib.pyplot.show(close=None, block=None)>"
      ]
     },
     "execution_count": 81,
     "metadata": {},
     "output_type": "execute_result"
    },
    {
     "data": {
      "image/png": "[encoded data removed]",
      "text/plain": [
       "<Figure size 1000x500 with 1 Axes>"
      ]
     },
     "metadata": {},
     "output_type": "display_data"
    }
   ],
   "source": [
    "# plot\n",
    "color = sns.color_palette(\"magma\")\n",
    "color.reverse()\n",
    "sns.set(rc={'ytick.labelcolor':'white','xtick.labelcolor':'white'}) \n",
    "sns.set(rc={'axes.facecolor':'black', 'figure.facecolor':'black'})\n",
    "fig, ax4 = plt.subplots(figsize=(10,5))\n",
    "ax4.set_title('Top 5 Cancelled Transactions by Countries',fontsize=16, fontweight='bold',color='white')\n",
    "ax4 = sns.barplot(y='Quantity', x='Country', data = cancelled_products_by_countries, palette= color)\n",
    "barlabel=ax4.bar_label(ax4.containers[0],color='white')\n",
    "ax4.set_ylabel('Values',fontweight='bold', color='white',fontsize=14)\n",
    "ax4.set_xlabel('Country',fontweight='bold',color='white',fontsize=14)\n",
    "yformat = ['{:,.0f}'.format(y) + 'K' for y in ax4.get_yticks()/1000]\n",
    "ax4.set_yticklabels(yformat)\n",
    "plt.show"
   ]
  },
  {
   "cell_type": "markdown",
   "id": "9c3f1639",
   "metadata": {},
   "source": [
    "As the business likely tailors its products to meet UK customers so it's expected UK will have a significant amount of cancelled orders, standing at 258k of total cancelled transactions."
   ]
  },
  {
   "cell_type": "markdown",
   "id": "25b4f81d",
   "metadata": {},
   "source": [
    "Overall, the perfect time of the year is during end of year so adding rewards and incentives such as loyalty cards could increase more revenue. The business can prepare for a prompt winter festive marketing strategy to meet customer demands by doing research on the targeted audience, and run limited time sales. \n",
    "\n",
    "The business could create a tracking method to increase customer retention. The current dataset does not have records against time, adding a tracking method to track time slots from the best time customers are likely to purchase the available products to which offers are popular would not only help create a refined marketing strategy to target customers but also add more data into the equation for more analysis.\n",
    "\n",
    "As already explained above, higher salary usually means more disposable income so increasing marketing budgets to countries with higher salaries could be a great additional tactic to increase revenue.\n",
    "\n",
    "Research on why customers abandon their carts, certain products aren't so popular, and why UK has over 90% cancelled transactions compared to other countries should be on the card. High delivery cost, and long delivery time are usually the top reasons for order cancellation. Other reasons are likely to include; loss of interest, competitors, reviews, return policy, etc.\n",
    "\n",
    "Introducing more responsive website features to understand customers attitude and behaviours towards sales can optimize marketing campaigns and help understand clicks, views, customer traffic, and what drives it to name a few."
   ]
  }
 ],
 "metadata": {
  "kernelspec": {
   "display_name": "Python 3 (ipykernel)",
   "language": "python",
   "name": "python3"
  },
  "language_info": {
   "codemirror_mode": {
    "name": "ipython",
    "version": 3
   },
   "file_extension": ".py",
   "mimetype": "text/x-python",
   "name": "python",
   "nbconvert_exporter": "python",
   "pygments_lexer": "ipython3",
   "version": "3.11.5"
  }
 },
 "nbformat": 4,
 "nbformat_minor": 5
}
